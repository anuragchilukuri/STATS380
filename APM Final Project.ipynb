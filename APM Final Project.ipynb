{
 "cells": [
  {
   "cell_type": "code",
   "execution_count": 33,
   "metadata": {
    "collapsed": false,
    "scrolled": true
   },
   "outputs": [],
   "source": [
    "import pandas as pd\n",
    "\n",
    "df_numeric = pd.read_csv('train_numeric_sample.csv')\n",
    "#test = pd.read_csv('test_numeric_sample.csv')\n",
    "#df.convert_objects(convert_numeric=True).dtypes\n"
   ]
  },
  {
   "cell_type": "code",
   "execution_count": 35,
   "metadata": {
    "collapsed": false
   },
   "outputs": [
    {
     "data": {
      "text/html": [
       "<div>\n",
       "<table border=\"1\" class=\"dataframe\">\n",
       "  <thead>\n",
       "    <tr style=\"text-align: right;\">\n",
       "      <th></th>\n",
       "      <th>Unnamed: 0</th>\n",
       "      <th>Id</th>\n",
       "      <th>L0_S0_F0</th>\n",
       "      <th>L0_S0_F2</th>\n",
       "      <th>L0_S0_F4</th>\n",
       "      <th>L0_S0_F6</th>\n",
       "      <th>L0_S0_F8</th>\n",
       "      <th>L0_S0_F10</th>\n",
       "      <th>L0_S0_F12</th>\n",
       "      <th>L0_S0_F14</th>\n",
       "      <th>...</th>\n",
       "      <th>L3_S50_F4245</th>\n",
       "      <th>L3_S50_F4247</th>\n",
       "      <th>L3_S50_F4249</th>\n",
       "      <th>L3_S50_F4251</th>\n",
       "      <th>L3_S50_F4253</th>\n",
       "      <th>L3_S51_F4256</th>\n",
       "      <th>L3_S51_F4258</th>\n",
       "      <th>L3_S51_F4260</th>\n",
       "      <th>L3_S51_F4262</th>\n",
       "      <th>Response</th>\n",
       "    </tr>\n",
       "    <tr>\n",
       "      <th>Id</th>\n",
       "      <th></th>\n",
       "      <th></th>\n",
       "      <th></th>\n",
       "      <th></th>\n",
       "      <th></th>\n",
       "      <th></th>\n",
       "      <th></th>\n",
       "      <th></th>\n",
       "      <th></th>\n",
       "      <th></th>\n",
       "      <th></th>\n",
       "      <th></th>\n",
       "      <th></th>\n",
       "      <th></th>\n",
       "      <th></th>\n",
       "      <th></th>\n",
       "      <th></th>\n",
       "      <th></th>\n",
       "      <th></th>\n",
       "      <th></th>\n",
       "      <th></th>\n",
       "    </tr>\n",
       "  </thead>\n",
       "  <tbody>\n",
       "    <tr>\n",
       "      <th>632173</th>\n",
       "      <td>315972</td>\n",
       "      <td>632173</td>\n",
       "      <td>NaN</td>\n",
       "      <td>NaN</td>\n",
       "      <td>NaN</td>\n",
       "      <td>NaN</td>\n",
       "      <td>NaN</td>\n",
       "      <td>NaN</td>\n",
       "      <td>NaN</td>\n",
       "      <td>NaN</td>\n",
       "      <td>...</td>\n",
       "      <td>NaN</td>\n",
       "      <td>NaN</td>\n",
       "      <td>NaN</td>\n",
       "      <td>NaN</td>\n",
       "      <td>NaN</td>\n",
       "      <td>NaN</td>\n",
       "      <td>NaN</td>\n",
       "      <td>NaN</td>\n",
       "      <td>NaN</td>\n",
       "      <td>0</td>\n",
       "    </tr>\n",
       "    <tr>\n",
       "      <th>1683751</th>\n",
       "      <td>841903</td>\n",
       "      <td>1683751</td>\n",
       "      <td>NaN</td>\n",
       "      <td>NaN</td>\n",
       "      <td>NaN</td>\n",
       "      <td>NaN</td>\n",
       "      <td>NaN</td>\n",
       "      <td>NaN</td>\n",
       "      <td>NaN</td>\n",
       "      <td>NaN</td>\n",
       "      <td>...</td>\n",
       "      <td>NaN</td>\n",
       "      <td>NaN</td>\n",
       "      <td>NaN</td>\n",
       "      <td>NaN</td>\n",
       "      <td>NaN</td>\n",
       "      <td>NaN</td>\n",
       "      <td>NaN</td>\n",
       "      <td>NaN</td>\n",
       "      <td>NaN</td>\n",
       "      <td>0</td>\n",
       "    </tr>\n",
       "    <tr>\n",
       "      <th>1269884</th>\n",
       "      <td>634444</td>\n",
       "      <td>1269884</td>\n",
       "      <td>NaN</td>\n",
       "      <td>NaN</td>\n",
       "      <td>NaN</td>\n",
       "      <td>NaN</td>\n",
       "      <td>NaN</td>\n",
       "      <td>NaN</td>\n",
       "      <td>NaN</td>\n",
       "      <td>NaN</td>\n",
       "      <td>...</td>\n",
       "      <td>NaN</td>\n",
       "      <td>NaN</td>\n",
       "      <td>NaN</td>\n",
       "      <td>NaN</td>\n",
       "      <td>NaN</td>\n",
       "      <td>NaN</td>\n",
       "      <td>NaN</td>\n",
       "      <td>NaN</td>\n",
       "      <td>NaN</td>\n",
       "      <td>0</td>\n",
       "    </tr>\n",
       "    <tr>\n",
       "      <th>452561</th>\n",
       "      <td>226376</td>\n",
       "      <td>452561</td>\n",
       "      <td>-0.003</td>\n",
       "      <td>-0.011</td>\n",
       "      <td>-0.161</td>\n",
       "      <td>-0.161</td>\n",
       "      <td>0.031</td>\n",
       "      <td>0.206</td>\n",
       "      <td>-0.015</td>\n",
       "      <td>-0.072</td>\n",
       "      <td>...</td>\n",
       "      <td>0.0</td>\n",
       "      <td>0.0</td>\n",
       "      <td>0.0</td>\n",
       "      <td>0.0</td>\n",
       "      <td>-0.25</td>\n",
       "      <td>0.0</td>\n",
       "      <td>0.0</td>\n",
       "      <td>0.0</td>\n",
       "      <td>0.0</td>\n",
       "      <td>0</td>\n",
       "    </tr>\n",
       "    <tr>\n",
       "      <th>1290622</th>\n",
       "      <td>644813</td>\n",
       "      <td>1290622</td>\n",
       "      <td>-0.016</td>\n",
       "      <td>-0.034</td>\n",
       "      <td>-0.215</td>\n",
       "      <td>-0.161</td>\n",
       "      <td>0.118</td>\n",
       "      <td>0.070</td>\n",
       "      <td>-0.007</td>\n",
       "      <td>-0.032</td>\n",
       "      <td>...</td>\n",
       "      <td>NaN</td>\n",
       "      <td>NaN</td>\n",
       "      <td>NaN</td>\n",
       "      <td>NaN</td>\n",
       "      <td>NaN</td>\n",
       "      <td>NaN</td>\n",
       "      <td>NaN</td>\n",
       "      <td>NaN</td>\n",
       "      <td>NaN</td>\n",
       "      <td>0</td>\n",
       "    </tr>\n",
       "  </tbody>\n",
       "</table>\n",
       "<p>5 rows × 971 columns</p>\n",
       "</div>"
      ],
      "text/plain": [
       "         Unnamed: 0       Id  L0_S0_F0  L0_S0_F2  L0_S0_F4  L0_S0_F6  \\\n",
       "Id                                                                     \n",
       "632173       315972   632173       NaN       NaN       NaN       NaN   \n",
       "1683751      841903  1683751       NaN       NaN       NaN       NaN   \n",
       "1269884      634444  1269884       NaN       NaN       NaN       NaN   \n",
       "452561       226376   452561    -0.003    -0.011    -0.161    -0.161   \n",
       "1290622      644813  1290622    -0.016    -0.034    -0.215    -0.161   \n",
       "\n",
       "         L0_S0_F8  L0_S0_F10  L0_S0_F12  L0_S0_F14    ...     L3_S50_F4245  \\\n",
       "Id                                                    ...                    \n",
       "632173        NaN        NaN        NaN        NaN    ...              NaN   \n",
       "1683751       NaN        NaN        NaN        NaN    ...              NaN   \n",
       "1269884       NaN        NaN        NaN        NaN    ...              NaN   \n",
       "452561      0.031      0.206     -0.015     -0.072    ...              0.0   \n",
       "1290622     0.118      0.070     -0.007     -0.032    ...              NaN   \n",
       "\n",
       "         L3_S50_F4247  L3_S50_F4249  L3_S50_F4251  L3_S50_F4253  L3_S51_F4256  \\\n",
       "Id                                                                              \n",
       "632173            NaN           NaN           NaN           NaN           NaN   \n",
       "1683751           NaN           NaN           NaN           NaN           NaN   \n",
       "1269884           NaN           NaN           NaN           NaN           NaN   \n",
       "452561            0.0           0.0           0.0         -0.25           0.0   \n",
       "1290622           NaN           NaN           NaN           NaN           NaN   \n",
       "\n",
       "         L3_S51_F4258  L3_S51_F4260  L3_S51_F4262  Response  \n",
       "Id                                                           \n",
       "632173            NaN           NaN           NaN         0  \n",
       "1683751           NaN           NaN           NaN         0  \n",
       "1269884           NaN           NaN           NaN         0  \n",
       "452561            0.0           0.0           0.0         0  \n",
       "1290622           NaN           NaN           NaN         0  \n",
       "\n",
       "[5 rows x 971 columns]"
      ]
     },
     "execution_count": 35,
     "metadata": {},
     "output_type": "execute_result"
    }
   ],
   "source": [
    "df_numeric.set_index(df_numeric[\"Id\"],inplace=True)\n",
    "#test.set_index(test[\"Id\"],inplace=True)\n",
    "df_numeric.head()"
   ]
  },
  {
   "cell_type": "code",
   "execution_count": 36,
   "metadata": {
    "collapsed": false
   },
   "outputs": [],
   "source": [
    "#Drop unnecessary first column \n",
    "\n",
    "df_numeric = df_numeric.drop('Unnamed: 0', 1)\n",
    "df_numeric = df_numeric.drop('Id', 1)\n",
    "\n",
    "#Same for test\n",
    "#test = test.drop('Unnamed: 0', 1)\n",
    "#test = test.drop('Id', 1)"
   ]
  },
  {
   "cell_type": "code",
   "execution_count": 37,
   "metadata": {
    "collapsed": false
   },
   "outputs": [
    {
     "name": "stdout",
     "output_type": "stream",
     "text": [
      "50000\n",
      "812\n",
      "(50000, 969)\n",
      "[208 193 111 160 211 176 191 212 159 173 113 161 221 194 163 165 156 205\n",
      " 158 210 192 167 207 162 125 179 204 119 175 209 178 196  68 170 217 182\n",
      " 240 168 188 190 131 100   1 266 222 116  35 153 123 172 202 128 251 203\n",
      " 164 197 206 127 199 117 228 189 195  49 150 139 180 200  47 155 157 187\n",
      " 237 146 109 254 214 174 171 246 264 149 166 184 225 248 223 183 226 114\n",
      " 147 177 137 181 145 144  90 198 256  64 213 121 130 270 154 126 236 224\n",
      " 148  80 243 185 133 215  86  67 129   4 261 102 253 169 143 186 216 152\n",
      " 257 120 201 141  55  63  87 219 233 231 112 107  50 122  99 220 255 105\n",
      " 151  45 227 134 250 103  95 230 142 229 242 271 140 260 241 239]\n",
      "160\n"
     ]
    }
   ],
   "source": [
    "#Nulls by column\n",
    "print len(df_numeric.index)\n",
    "#df.ix['nulls'] = df.isnull().sum().T\n",
    "\n",
    "\n",
    "#How many columns are more than half blank\n",
    "half_empty = df_numeric.isnull().sum() > 25000\n",
    "print sum(half_empty)  #812 columns are more than half empty......\n",
    "\n",
    "print df_numeric.shape\n",
    "\n",
    "#Add a column with the number of null values per row\n",
    "df_numeric['null_cols'] = df_numeric.count(axis=1)\n",
    "\n",
    "#Do same for test\n",
    "#test['null_cols'] = test.count(axis=1)\n",
    "\n",
    "print df_numeric['null_cols'].unique()\n",
    "\n",
    "# Number of unique blank columns should indicate the line pattern or part route\n",
    "print len(df_numeric['null_cols'].unique())"
   ]
  },
  {
   "cell_type": "markdown",
   "metadata": {},
   "source": [
    "# Fill in NA values"
   ]
  },
  {
   "cell_type": "code",
   "execution_count": 38,
   "metadata": {
    "collapsed": false
   },
   "outputs": [],
   "source": [
    "df_numeric.fillna(0,inplace=True)\n",
    "\n",
    "#test.fillna(0,inplace=True)  \n",
    "\n",
    "y_train = df_numeric['Response']\n",
    "null_cols = pd.DataFrame(df_numeric['null_cols'])\n",
    "#df = df.drop('Response',axis=1)\n",
    "#df = df.drop('null_cols',axis=1)"
   ]
  },
  {
   "cell_type": "markdown",
   "metadata": {},
   "source": [
    "## Center Only don't kill sparsity"
   ]
  },
  {
   "cell_type": "markdown",
   "metadata": {},
   "source": [
    "stdev = df.std(axis=1)\n",
    "print df.columns\n",
    "\n",
    "count = 0\n",
    "for i in df.columns:\n",
    "    df[i] = df[i].values/stdev[count]\n",
    "    count += 1\n",
    "    \n"
   ]
  },
  {
   "cell_type": "markdown",
   "metadata": {},
   "source": [
    "## Null columns and part route investigation"
   ]
  },
  {
   "cell_type": "code",
   "execution_count": 39,
   "metadata": {
    "collapsed": true
   },
   "outputs": [],
   "source": [
    "df_numeric.sort_values(by='null_cols',inplace=True)"
   ]
  },
  {
   "cell_type": "code",
   "execution_count": 40,
   "metadata": {
    "collapsed": false
   },
   "outputs": [
    {
     "name": "stdout",
     "output_type": "stream",
     "text": [
      "Id\n",
      "518403     0\n",
      "75065      0\n",
      "1353494    0\n",
      "863445     0\n",
      "1610586    0\n",
      "1468091    0\n",
      "2124261    0\n",
      "188326     0\n",
      "589516     0\n",
      "1064567    0\n",
      "514710     0\n",
      "1534639    0\n",
      "595893     0\n",
      "1680409    0\n",
      "1284058    0\n",
      "978830     0\n",
      "718529     0\n",
      "736138     0\n",
      "Name: Response, dtype: int64\n"
     ]
    },
    {
     "name": "stderr",
     "output_type": "stream",
     "text": [
      "C:\\Users\\anura\\Anaconda2\\lib\\site-packages\\pandas\\core\\internals.py:227: VisibleDeprecationWarning: boolean index did not match indexed array along dimension 0; dimension is 50000 but corresponding boolean dimension is 2530\n",
      "  return self.values[slicer]\n",
      "C:\\Users\\anura\\Anaconda2\\lib\\site-packages\\pandas\\indexes\\base.py:1275: VisibleDeprecationWarning: boolean index did not match indexed array along dimension 0; dimension is 50000 but corresponding boolean dimension is 2530\n",
      "  result = getitem(key)\n"
     ]
    }
   ],
   "source": [
    "print df_numeric.Response[df['Response'].values !=0]\n"
   ]
  },
  {
   "cell_type": "markdown",
   "metadata": {},
   "source": [
    "## Class Imbalance Methods\n",
    " \n",
    "### We have to be careful here, because any resampling or undersampling we train on will be expected in the test set. Thus if we use a sampling method during train, we'll need to use it during the test as well."
   ]
  },
  {
   "cell_type": "code",
   "execution_count": 73,
   "metadata": {
    "collapsed": false
   },
   "outputs": [],
   "source": [
    "import matplotlib.pyplot as plt\n",
    "import seaborn as sns\n",
    "#import sklearn.imblearn as imb\n",
    "from sklearn.datasets import make_classification\n",
    "from sklearn.decomposition import PCA\n",
    "#from imblearn.under_sampling import RandomUnderSampler\n",
    "import pandas as pd\n",
    "import numpy as np"
   ]
  },
  {
   "cell_type": "code",
   "execution_count": 74,
   "metadata": {
    "collapsed": false
   },
   "outputs": [
    {
     "name": "stdout",
     "output_type": "stream",
     "text": [
      "Fitting Decision Tree\n",
      "Fitting Bagging\n",
      "Fitting Random Forest\n",
      "Fitting Gradient Boosting\n"
     ]
    }
   ],
   "source": [
    "x_1 = df_numeric.drop('Response',axis=1)\n",
    "y_1 = df_numeric['Response']\n",
    "from sklearn.model_selection import (train_test_split,KFold)\n",
    "X_train, X_test, y_train, y_test = train_test_split(x_1,y_1,test_size = 0.3, random_state=42)\n",
    "from sklearn.ensemble import RandomForestClassifier, ExtraTreesClassifier\n",
    "from sklearn.ensemble import GradientBoostingClassifier\n",
    "from sklearn.ensemble import BaggingClassifier\n",
    "from sklearn import tree\n",
    "model_list_1 = [('Decision Tree', tree.DecisionTreeClassifier(criterion='entropy')),\n",
    "              ('Bagging', BaggingClassifier(tree.DecisionTreeClassifier(criterion='entropy'), random_state=1)),\n",
    "              ('Random Forest', RandomForestClassifier(n_estimators=10, random_state=1)),\n",
    "              ('Gradient Boosting', GradientBoostingClassifier(n_estimators=200, max_depth=4, random_state=1))]\n",
    "\n",
    "for (name, model) in model_list_1:\n",
    "    print 'Fitting', name\n",
    "    model.fit(X_train, y_train)"
   ]
  },
  {
   "cell_type": "code",
   "execution_count": 73,
   "metadata": {
    "collapsed": false
   },
   "outputs": [
    {
     "data": {
      "text/plain": [
       "35000"
      ]
     },
     "execution_count": 73,
     "metadata": {},
     "output_type": "execute_result"
    }
   ],
   "source": [
    "len(X_train)"
   ]
  },
  {
   "cell_type": "code",
   "execution_count": 75,
   "metadata": {
    "collapsed": false
   },
   "outputs": [
    {
     "name": "stdout",
     "output_type": "stream",
     "text": [
      "{}\n"
     ]
    },
    {
     "data": {
      "text/html": [
       "<div>\n",
       "<table border=\"1\" class=\"dataframe\">\n",
       "  <thead>\n",
       "    <tr style=\"text-align: right;\">\n",
       "      <th></th>\n",
       "      <th>MCC</th>\n",
       "      <th>TPR</th>\n",
       "      <th>Test Accuracy</th>\n",
       "      <th>Training Accuracy</th>\n",
       "    </tr>\n",
       "  </thead>\n",
       "  <tbody>\n",
       "    <tr>\n",
       "      <th>Bagging</th>\n",
       "      <td>0.244757</td>\n",
       "      <td>0.060345</td>\n",
       "      <td>0.992733</td>\n",
       "      <td>0.998543</td>\n",
       "    </tr>\n",
       "    <tr>\n",
       "      <th>Decision Tree</th>\n",
       "      <td>0.063067</td>\n",
       "      <td>0.068966</td>\n",
       "      <td>0.985867</td>\n",
       "      <td>0.999971</td>\n",
       "    </tr>\n",
       "    <tr>\n",
       "      <th>Gradient Boosting</th>\n",
       "      <td>0.075169</td>\n",
       "      <td>0.077586</td>\n",
       "      <td>0.986533</td>\n",
       "      <td>0.999286</td>\n",
       "    </tr>\n",
       "    <tr>\n",
       "      <th>Random Forest</th>\n",
       "      <td>0.188534</td>\n",
       "      <td>0.043103</td>\n",
       "      <td>0.992533</td>\n",
       "      <td>0.998486</td>\n",
       "    </tr>\n",
       "  </tbody>\n",
       "</table>\n",
       "</div>"
      ],
      "text/plain": [
       "                        MCC       TPR  Test Accuracy  Training Accuracy\n",
       "Bagging            0.244757  0.060345       0.992733           0.998543\n",
       "Decision Tree      0.063067  0.068966       0.985867           0.999971\n",
       "Gradient Boosting  0.075169  0.077586       0.986533           0.999286\n",
       "Random Forest      0.188534  0.043103       0.992533           0.998486"
      ]
     },
     "execution_count": 75,
     "metadata": {},
     "output_type": "execute_result"
    }
   ],
   "source": [
    "from sklearn import metrics\n",
    "from sklearn.metrics import confusion_matrix\n",
    "\n",
    "accuracy_train_1 = {}\n",
    "accuracy_test_1 = {}\n",
    "cm_1 = {}\n",
    "mcc_1={}\n",
    "TPR_1={}\n",
    "for (name, model) in model_list_1:\n",
    "    prediction_train_1 = model.predict(X_train)\n",
    "    accuracy_train_1[name] = metrics.accuracy_score(y_train, prediction_train_1)\n",
    "    prediction_test_1 = model.predict(X_test)\n",
    "    accuracy_test_1[name] = metrics.accuracy_score(y_test, prediction_test_1)\n",
    "    cm_1[name] = confusion_matrix(y_test,prediction_test_1)\n",
    "    TP = cm_1[name][1][1]\n",
    "    FP = cm_1[name][0][1]\n",
    "    TN = cm_1[name][0][0]\n",
    "    FN = cm_1[name][1][0]\n",
    "    #print (TP+FP),(TP+FN),(TN+FP),(TN+FN)\n",
    "    a = (TP+FP)*(TP+FN)\n",
    "    b = (TN+FP)*(TN+FN)\n",
    "    mcc_1[name]= (TP*TN-FP*FN)*1.0/np.sqrt(float(a)*float(b))\n",
    "    TPR_1[name] = TP*1.0/(TP+FN)\n",
    "print cm\n",
    "results_1 = pd.DataFrame({'Training Accuracy':accuracy_train_1, 'Test Accuracy':accuracy_test_1,'MCC':mcc_1,'TPR':TPR_1})\n",
    "results_1"
   ]
  },
  {
   "cell_type": "code",
   "execution_count": 35,
   "metadata": {
    "collapsed": false
   },
   "outputs": [
    {
     "data": {
      "text/plain": [
       "numpy.ndarray"
      ]
     },
     "execution_count": 35,
     "metadata": {},
     "output_type": "execute_result"
    }
   ],
   "source": [
    "type(cm1)"
   ]
  },
  {
   "cell_type": "code",
   "execution_count": 27,
   "metadata": {
    "collapsed": false
   },
   "outputs": [
    {
     "data": {
      "text/plain": [
       "'cm_Gradient Boosting'"
      ]
     },
     "execution_count": 27,
     "metadata": {},
     "output_type": "execute_result"
    }
   ],
   "source": [
    "'cm_'+str(name)"
   ]
  },
  {
   "cell_type": "markdown",
   "metadata": {},
   "source": [
    "## Random Undersampling"
   ]
  },
  {
   "cell_type": "code",
   "execution_count": 42,
   "metadata": {
    "collapsed": false,
    "scrolled": true
   },
   "outputs": [
    {
     "name": "stdout",
     "output_type": "stream",
     "text": [
      "positive class samples  317\n",
      "neg class samples  49683\n",
      "634\n"
     ]
    }
   ],
   "source": [
    "#Random undersampling\n",
    "#Sample shape (50000, 969)\n",
    "\n",
    "posidx = df_numeric[df_numeric.Response == 1].index\n",
    "negidx = df_numeric[df_numeric.Response == 0].index\n",
    "\n",
    "pos = len(posidx)\n",
    "neg = len(negidx)\n",
    "\n",
    "print \"positive class samples  \" + str(pos)\n",
    "print 'neg class samples  ' + str(neg)\n",
    "\n",
    "random_indices = np.random.choice(negidx, pos , replace=False)\n",
    "undersample = pd.DataFrame(df_numeric.loc[random_indices])\n",
    "possample = pd.DataFrame(df_numeric.loc[posidx])\n",
    "\n",
    "#print undersample.head()\n",
    "#print possample.head()\n",
    "\n",
    "frames = [undersample, possample]\n",
    "train_undersample_random = pd.concat(frames, axis=0)\n",
    "\n",
    "print len(train_undersample_random)\n",
    "\n",
    "x = train_undersample_random.ix[:,train_undersample_random.columns != 'Response']\n",
    "y = train_undersample_random.ix[:,'Response']\n",
    "\n",
    "\n"
   ]
  },
  {
   "cell_type": "code",
   "execution_count": 74,
   "metadata": {
    "collapsed": true
   },
   "outputs": [],
   "source": [
    "from sklearn.model_selection import (train_test_split,KFold)\n",
    "X_train, X_test, y_train, y_test = train_test_split(x,y,test_size = 0.3, random_state=42)"
   ]
  },
  {
   "cell_type": "code",
   "execution_count": 75,
   "metadata": {
    "collapsed": false
   },
   "outputs": [
    {
     "data": {
      "text/plain": [
       "443"
      ]
     },
     "execution_count": 75,
     "metadata": {},
     "output_type": "execute_result"
    }
   ],
   "source": [
    "len(X_train)"
   ]
  },
  {
   "cell_type": "code",
   "execution_count": 84,
   "metadata": {
    "collapsed": false
   },
   "outputs": [
    {
     "name": "stdout",
     "output_type": "stream",
     "text": [
      "Fitting Decision Tree\n",
      "Fitting Bagging\n",
      "Fitting Random Forest\n",
      "Fitting Gradient Boosting\n"
     ]
    }
   ],
   "source": [
    "from sklearn.ensemble import RandomForestClassifier, ExtraTreesClassifier\n",
    "from sklearn.ensemble import GradientBoostingClassifier\n",
    "from sklearn.ensemble import BaggingClassifier\n",
    "from sklearn import tree\n",
    "from sklearn.metrics import mean_squared_error, confusion_matrix\n",
    "\n",
    "# All the models we want to test out, in one list.\n",
    "model_list_2 = [('Decision Tree', tree.DecisionTreeClassifier(criterion='entropy')),\n",
    "              ('Bagging', BaggingClassifier(tree.DecisionTreeClassifier(criterion='entropy'), random_state=1)),\n",
    "              ('Random Forest', RandomForestClassifier(n_estimators=10, random_state=1)),\n",
    "              ('Gradient Boosting', GradientBoostingClassifier(n_estimators=200, max_depth=4, random_state=1))]\n",
    "\n",
    "for (name, model) in model_list_2:\n",
    "    print 'Fitting', name\n",
    "    model.fit(X_train, y_train)"
   ]
  },
  {
   "cell_type": "code",
   "execution_count": 85,
   "metadata": {
    "collapsed": true
   },
   "outputs": [],
   "source": [
    "\n",
    "from sklearn.model_selection import (train_test_split,KFold)\n",
    "X_train, X_test, y_train, y_test = train_test_split(x,y,test_size = 0.3, random_state=42)"
   ]
  },
  {
   "cell_type": "code",
   "execution_count": 86,
   "metadata": {
    "collapsed": false
   },
   "outputs": [
    {
     "name": "stdout",
     "output_type": "stream",
     "text": [
      "{'Bagging': array([[73, 27],\n",
      "       [55, 36]]), 'Random Forest': array([[71, 29],\n",
      "       [52, 39]]), 'Gradient Boosting': array([[59, 41],\n",
      "       [36, 55]]), 'Decision Tree': array([[50, 50],\n",
      "       [46, 45]])}\n"
     ]
    },
    {
     "data": {
      "text/html": [
       "<div>\n",
       "<table border=\"1\" class=\"dataframe\">\n",
       "  <thead>\n",
       "    <tr style=\"text-align: right;\">\n",
       "      <th></th>\n",
       "      <th>MCC</th>\n",
       "      <th>TPR</th>\n",
       "      <th>Test Accuracy</th>\n",
       "      <th>Training Accuracy</th>\n",
       "    </tr>\n",
       "  </thead>\n",
       "  <tbody>\n",
       "    <tr>\n",
       "      <th>Bagging</th>\n",
       "      <td>0.133429</td>\n",
       "      <td>0.395604</td>\n",
       "      <td>0.570681</td>\n",
       "      <td>0.981941</td>\n",
       "    </tr>\n",
       "    <tr>\n",
       "      <th>Decision Tree</th>\n",
       "      <td>-0.005488</td>\n",
       "      <td>0.494505</td>\n",
       "      <td>0.497382</td>\n",
       "      <td>1.000000</td>\n",
       "    </tr>\n",
       "    <tr>\n",
       "      <th>Gradient Boosting</th>\n",
       "      <td>0.194182</td>\n",
       "      <td>0.604396</td>\n",
       "      <td>0.596859</td>\n",
       "      <td>1.000000</td>\n",
       "    </tr>\n",
       "    <tr>\n",
       "      <th>Random Forest</th>\n",
       "      <td>0.144540</td>\n",
       "      <td>0.428571</td>\n",
       "      <td>0.575916</td>\n",
       "      <td>0.979684</td>\n",
       "    </tr>\n",
       "  </tbody>\n",
       "</table>\n",
       "</div>"
      ],
      "text/plain": [
       "                        MCC       TPR  Test Accuracy  Training Accuracy\n",
       "Bagging            0.133429  0.395604       0.570681           0.981941\n",
       "Decision Tree     -0.005488  0.494505       0.497382           1.000000\n",
       "Gradient Boosting  0.194182  0.604396       0.596859           1.000000\n",
       "Random Forest      0.144540  0.428571       0.575916           0.979684"
      ]
     },
     "execution_count": 86,
     "metadata": {},
     "output_type": "execute_result"
    }
   ],
   "source": [
    "from sklearn import metrics\n",
    "\n",
    "accuracy_train = {}\n",
    "accuracy_test = {}\n",
    "cm = {}\n",
    "mcc={}\n",
    "TPR={}\n",
    "for (name, model) in model_list_2:\n",
    "    prediction_train = model.predict(X_train)\n",
    "    accuracy_train[name] = metrics.accuracy_score(y_train, prediction_train)\n",
    "    prediction_test = model.predict(X_test)\n",
    "    accuracy_test[name] = metrics.accuracy_score(y_test, prediction_test)\n",
    "    cm[name] = confusion_matrix(y_test,prediction_test)\n",
    "    TP = cm[name][1][1]\n",
    "    FP = cm[name][0][1]\n",
    "    TN = cm[name][0][0]\n",
    "    FN = cm[name][1][0]\n",
    "\n",
    "    #print (TP+FP),(TP+FN),(TN+FP),(TN+FN)\n",
    "    a = (TP+FP)*(TP+FN)\n",
    "    b = (TN+FP)*(TN+FN)\n",
    "    mcc[name]= (TP*TN-FP*FN)*1.0/np.sqrt(float(a)*float(b))\n",
    "    TPR[name] = TP*1.0/(TP+FN)\n",
    "print cm\n",
    "results = pd.DataFrame({'Training Accuracy':accuracy_train, 'Test Accuracy':accuracy_test,'MCC':mcc,'TPR':TPR})\n",
    "results"
   ]
  },
  {
   "cell_type": "markdown",
   "metadata": {},
   "source": [
    "## Oversampling - Smote"
   ]
  },
  {
   "cell_type": "code",
   "execution_count": 90,
   "metadata": {
    "collapsed": false
   },
   "outputs": [
    {
     "name": "stdout",
     "output_type": "stream",
     "text": [
      "99366\n",
      "(99366L, 969L)\n",
      "(99366L,)\n"
     ]
    }
   ],
   "source": [
    "from sklearn.datasets import make_classification\n",
    "from imblearn.over_sampling import SMOTE\n",
    "\n",
    "x = df_numeric.ix[:,df.columns != 'Response']\n",
    "y = df_numeric.ix[:,df.columns == 'Response']\n",
    "y = y.values.ravel()\n",
    "# Apply regular SMOTE\n",
    "sm = SMOTE(kind='regular')\n",
    "X_resampled, y_resampled = sm.fit_sample(x,y)\n",
    "print len(X_resampled)\n",
    "#y_resampled = pd.DataFrame(y_resampled)\n",
    "print X_resampled.shape\n",
    "print y_resampled.shape"
   ]
  },
  {
   "cell_type": "code",
   "execution_count": 91,
   "metadata": {
    "collapsed": true
   },
   "outputs": [],
   "source": [
    "from sklearn.model_selection import (train_test_split,KFold)\n",
    "X_train, X_test, y_train, y_test = train_test_split(X_resampled, y_resampled,test_size = 0.3, random_state=42)"
   ]
  },
  {
   "cell_type": "code",
   "execution_count": 92,
   "metadata": {
    "collapsed": false
   },
   "outputs": [
    {
     "name": "stdout",
     "output_type": "stream",
     "text": [
      "Fitting Decision Tree\n",
      "Fitting Bagging\n",
      "Fitting Random Forest\n",
      "Fitting Gradient Boosting\n"
     ]
    }
   ],
   "source": [
    "# All the models we want to test out, in one list.\n",
    "model_list = [('Decision Tree', tree.DecisionTreeClassifier(criterion='entropy')),\n",
    "              ('Bagging', BaggingClassifier(tree.DecisionTreeClassifier(criterion='entropy'), random_state=1)),\n",
    "              ('Random Forest', RandomForestClassifier(n_estimators=10, random_state=1)),\n",
    "              ('Gradient Boosting', GradientBoostingClassifier(n_estimators=200, max_depth=4, random_state=1))]\n",
    "\n",
    "for (name, model) in model_list:\n",
    "    print 'Fitting', name\n",
    "    model.fit(X_train, y_train)"
   ]
  },
  {
   "cell_type": "code",
   "execution_count": 93,
   "metadata": {
    "collapsed": false
   },
   "outputs": [
    {
     "name": "stdout",
     "output_type": "stream",
     "text": [
      "{'Bagging': array([[ 9789,  5153],\n",
      "       [ 4108, 10760]]), 'Random Forest': array([[ 9821,  5121],\n",
      "       [ 3492, 11376]]), 'Gradient Boosting': array([[ 8791,  6151],\n",
      "       [ 1599, 13269]]), 'Decision Tree': array([[ 8382,  6560],\n",
      "       [ 3434, 11434]])}\n"
     ]
    },
    {
     "data": {
      "text/html": [
       "<div>\n",
       "<table border=\"1\" class=\"dataframe\">\n",
       "  <thead>\n",
       "    <tr style=\"text-align: right;\">\n",
       "      <th></th>\n",
       "      <th>MCC</th>\n",
       "      <th>TPR</th>\n",
       "      <th>Test Accuracy</th>\n",
       "      <th>Training Accuracy</th>\n",
       "    </tr>\n",
       "  </thead>\n",
       "  <tbody>\n",
       "    <tr>\n",
       "      <th>Bagging</th>\n",
       "      <td>0.379703</td>\n",
       "      <td>0.723702</td>\n",
       "      <td>0.689332</td>\n",
       "      <td>0.683938</td>\n",
       "    </tr>\n",
       "    <tr>\n",
       "      <th>Decision Tree</th>\n",
       "      <td>0.337326</td>\n",
       "      <td>0.769034</td>\n",
       "      <td>0.664743</td>\n",
       "      <td>0.666671</td>\n",
       "    </tr>\n",
       "    <tr>\n",
       "      <th>Gradient Boosting</th>\n",
       "      <td>0.504497</td>\n",
       "      <td>0.892454</td>\n",
       "      <td>0.740020</td>\n",
       "      <td>0.739462</td>\n",
       "    </tr>\n",
       "    <tr>\n",
       "      <th>Random Forest</th>\n",
       "      <td>0.424837</td>\n",
       "      <td>0.765133</td>\n",
       "      <td>0.711070</td>\n",
       "      <td>0.712821</td>\n",
       "    </tr>\n",
       "  </tbody>\n",
       "</table>\n",
       "</div>"
      ],
      "text/plain": [
       "                        MCC       TPR  Test Accuracy  Training Accuracy\n",
       "Bagging            0.379703  0.723702       0.689332           0.683938\n",
       "Decision Tree      0.337326  0.769034       0.664743           0.666671\n",
       "Gradient Boosting  0.504497  0.892454       0.740020           0.739462\n",
       "Random Forest      0.424837  0.765133       0.711070           0.712821"
      ]
     },
     "execution_count": 93,
     "metadata": {},
     "output_type": "execute_result"
    }
   ],
   "source": [
    "accuracy_train = {}\n",
    "accuracy_test = {}\n",
    "cm = {}\n",
    "mcc={}\n",
    "TPR={}\n",
    "for (name, model) in model_list_2:\n",
    "    prediction_train = model.predict(X_train)\n",
    "    accuracy_train[name] = metrics.accuracy_score(y_train, prediction_train)\n",
    "    prediction_test = model.predict(X_test)\n",
    "    accuracy_test[name] = metrics.accuracy_score(y_test, prediction_test)\n",
    "    cm[name] = confusion_matrix(y_test,prediction_test)\n",
    "    TP = cm[name][1][1]\n",
    "    FP = cm[name][0][1]\n",
    "    TN = cm[name][0][0]\n",
    "    FN = cm[name][1][0]\n",
    "\n",
    "    #print (TP+FP),(TP+FN),(TN+FP),(TN+FN)\n",
    "    a = (TP+FP)*(TP+FN)\n",
    "    b = (TN+FP)*(TN+FN)\n",
    "    mcc[name]= (TP*TN-FP*FN)*1.0/np.sqrt(float(a)*float(b))\n",
    "    TPR[name] = TP*1.0/(TP+FN)\n",
    "print cm\n",
    "results = pd.DataFrame({'Training Accuracy':accuracy_train, 'Test Accuracy':accuracy_test,'MCC':mcc,'TPR':TPR})\n",
    "results"
   ]
  },
  {
   "cell_type": "markdown",
   "metadata": {},
   "source": [
    "## Combine Class methods SMOTE + ENN"
   ]
  },
  {
   "cell_type": "code",
   "execution_count": 94,
   "metadata": {
    "collapsed": false
   },
   "outputs": [
    {
     "name": "stderr",
     "output_type": "stream",
     "text": [
      "C:\\Users\\anura\\Anaconda2\\lib\\site-packages\\sklearn\\cross_validation.py:44: DeprecationWarning: This module was deprecated in version 0.18 in favor of the model_selection module into which all the refactored classes and functions are moved. Also note that the interface of the new CV iterators are different from that of this module. This module will be removed in 0.20.\n",
      "  \"This module will be removed in 0.20.\", DeprecationWarning)\n"
     ]
    },
    {
     "name": "stdout",
     "output_type": "stream",
     "text": [
      "(50000, 969)\n",
      "(50000L,)\n",
      "(99350L, 969L)\n",
      "(99350L,)\n"
     ]
    }
   ],
   "source": [
    "from imblearn.combine import SMOTEENN\n",
    "\n",
    "x = df_numeric.ix[:,df_numeric.columns != 'Response']\n",
    "y = df_numeric.ix[:,df_numeric.columns == 'Response']\n",
    "y = y.values.ravel()\n",
    "print x.shape\n",
    "print y.shape\n",
    "\n",
    "# Apply SMOTE + ENN\n",
    "sm = SMOTEENN()\n",
    "X_resampled, y_resampled = sm.fit_sample(x, y)\n",
    "\n",
    "print X_resampled.shape\n",
    "print y_resampled.shape\n",
    "#print X_resampled.head()\n"
   ]
  },
  {
   "cell_type": "code",
   "execution_count": 95,
   "metadata": {
    "collapsed": false
   },
   "outputs": [],
   "source": [
    "from sklearn.model_selection import (train_test_split,KFold)\n",
    "X_train, X_test, y_train, y_test = train_test_split(X_resampled, y_resampled,test_size = 0.3, random_state=42)"
   ]
  },
  {
   "cell_type": "code",
   "execution_count": 26,
   "metadata": {
    "collapsed": false
   },
   "outputs": [
    {
     "name": "stdout",
     "output_type": "stream",
     "text": [
      "Fitting Decision Tree\n",
      "Fitting Bagging\n",
      "Fitting Random Forest\n",
      "Fitting Gradient Boosting\n"
     ]
    }
   ],
   "source": [
    "# All the models we want to test out, in one list.\n",
    "model_list = [('Decision Tree', tree.DecisionTreeClassifier(criterion='entropy')),\n",
    "              ('Bagging', BaggingClassifier(tree.DecisionTreeClassifier(criterion='entropy'), random_state=1)),\n",
    "              ('Random Forest', RandomForestClassifier(n_estimators=10, random_state=1)),\n",
    "              ('Gradient Boosting', GradientBoostingClassifier(n_estimators=200, max_depth=4, random_state=1))]\n",
    "\n",
    "for (name, model) in model_list:\n",
    "    print 'Fitting', name\n",
    "    model.fit(X_train, y_train)"
   ]
  },
  {
   "cell_type": "code",
   "execution_count": 96,
   "metadata": {
    "collapsed": false
   },
   "outputs": [
    {
     "name": "stdout",
     "output_type": "stream",
     "text": [
      "{'Bagging': array([[ 9755,  5198],\n",
      "       [ 4215, 10637]]), 'Random Forest': array([[ 9882,  5071],\n",
      "       [ 3494, 11358]]), 'Gradient Boosting': array([[ 8760,  6193],\n",
      "       [ 1595, 13257]]), 'Decision Tree': array([[ 8294,  6659],\n",
      "       [ 3502, 11350]])}\n"
     ]
    },
    {
     "data": {
      "text/html": [
       "<div>\n",
       "<table border=\"1\" class=\"dataframe\">\n",
       "  <thead>\n",
       "    <tr style=\"text-align: right;\">\n",
       "      <th></th>\n",
       "      <th>MCC</th>\n",
       "      <th>TPR</th>\n",
       "      <th>Test Accuracy</th>\n",
       "      <th>Training Accuracy</th>\n",
       "    </tr>\n",
       "  </thead>\n",
       "  <tbody>\n",
       "    <tr>\n",
       "      <th>Bagging</th>\n",
       "      <td>0.369299</td>\n",
       "      <td>0.716200</td>\n",
       "      <td>0.684181</td>\n",
       "      <td>0.684708</td>\n",
       "    </tr>\n",
       "    <tr>\n",
       "      <th>Decision Tree</th>\n",
       "      <td>0.326039</td>\n",
       "      <td>0.764207</td>\n",
       "      <td>0.659084</td>\n",
       "      <td>0.668143</td>\n",
       "    </tr>\n",
       "    <tr>\n",
       "      <th>Gradient Boosting</th>\n",
       "      <td>0.502402</td>\n",
       "      <td>0.892607</td>\n",
       "      <td>0.738702</td>\n",
       "      <td>0.741434</td>\n",
       "    </tr>\n",
       "    <tr>\n",
       "      <th>Random Forest</th>\n",
       "      <td>0.427864</td>\n",
       "      <td>0.764745</td>\n",
       "      <td>0.712632</td>\n",
       "      <td>0.712345</td>\n",
       "    </tr>\n",
       "  </tbody>\n",
       "</table>\n",
       "</div>"
      ],
      "text/plain": [
       "                        MCC       TPR  Test Accuracy  Training Accuracy\n",
       "Bagging            0.369299  0.716200       0.684181           0.684708\n",
       "Decision Tree      0.326039  0.764207       0.659084           0.668143\n",
       "Gradient Boosting  0.502402  0.892607       0.738702           0.741434\n",
       "Random Forest      0.427864  0.764745       0.712632           0.712345"
      ]
     },
     "execution_count": 96,
     "metadata": {},
     "output_type": "execute_result"
    }
   ],
   "source": [
    "accuracy_train = {}\n",
    "accuracy_test = {}\n",
    "cm = {}\n",
    "mcc={}\n",
    "TPR={}\n",
    "for (name, model) in model_list_2:\n",
    "    prediction_train = model.predict(X_train)\n",
    "    accuracy_train[name] = metrics.accuracy_score(y_train, prediction_train)\n",
    "    prediction_test = model.predict(X_test)\n",
    "    accuracy_test[name] = metrics.accuracy_score(y_test, prediction_test)\n",
    "    cm[name] = confusion_matrix(y_test,prediction_test)\n",
    "    TP = cm[name][1][1]\n",
    "    FP = cm[name][0][1]\n",
    "    TN = cm[name][0][0]\n",
    "    FN = cm[name][1][0]\n",
    "\n",
    "    #print (TP+FP),(TP+FN),(TN+FP),(TN+FN)\n",
    "    a = (TP+FP)*(TP+FN)\n",
    "    b = (TN+FP)*(TN+FN)\n",
    "    mcc[name]= (TP*TN-FP*FN)*1.0/np.sqrt(float(a)*float(b))\n",
    "    TPR[name] = TP*1.0/(TP+FN)\n",
    "print cm\n",
    "results = pd.DataFrame({'Training Accuracy':accuracy_train, 'Test Accuracy':accuracy_test,'MCC':mcc,'TPR':TPR})\n",
    "results"
   ]
  },
  {
   "cell_type": "markdown",
   "metadata": {},
   "source": [
    "## Smote & Tomek"
   ]
  },
  {
   "cell_type": "code",
   "execution_count": 97,
   "metadata": {
    "collapsed": false
   },
   "outputs": [
    {
     "name": "stdout",
     "output_type": "stream",
     "text": [
      "(50000, 969)\n",
      "(50000L,)\n",
      "(99365L, 969L)\n",
      "(99365L,)\n"
     ]
    }
   ],
   "source": [
    "from imblearn.combine import SMOTETomek\n",
    "\n",
    "x = df_numeric.ix[:,df_numeric.columns != 'Response']\n",
    "y = df_numeric.ix[:,df_numeric.columns == 'Response']\n",
    "y = y.values.ravel()\n",
    "print x.shape\n",
    "print y.shape\n",
    "\n",
    "# Apply SMOTE + Tomek links\n",
    "sm = SMOTETomek()\n",
    "X_resampled, y_resampled = sm.fit_sample(x, y)\n",
    "\n",
    "print X_resampled.shape\n",
    "print y_resampled.shape\n",
    "#print X_resampled.head()\n"
   ]
  },
  {
   "cell_type": "code",
   "execution_count": 130,
   "metadata": {
    "collapsed": false
   },
   "outputs": [
    {
     "name": "stdout",
     "output_type": "stream",
     "text": [
      "Fitting Decision Tree\n",
      "Fitting Bagging\n",
      "Fitting Random Forest\n",
      "Fitting Gradient Boosting\n"
     ]
    },
    {
     "ename": "NameError",
     "evalue": "name 'model_list_2' is not defined",
     "output_type": "error",
     "traceback": [
      "\u001b[1;31m---------------------------------------------------------------------------\u001b[0m",
      "\u001b[1;31mNameError\u001b[0m                                 Traceback (most recent call last)",
      "\u001b[1;32m<ipython-input-130-92f4b48e8142>\u001b[0m in \u001b[0;36m<module>\u001b[1;34m()\u001b[0m\n\u001b[0;32m     17\u001b[0m \u001b[0mmcc\u001b[0m\u001b[1;33m=\u001b[0m\u001b[1;33m{\u001b[0m\u001b[1;33m}\u001b[0m\u001b[1;33m\u001b[0m\u001b[0m\n\u001b[0;32m     18\u001b[0m \u001b[0mTPR\u001b[0m\u001b[1;33m=\u001b[0m\u001b[1;33m{\u001b[0m\u001b[1;33m}\u001b[0m\u001b[1;33m\u001b[0m\u001b[0m\n\u001b[1;32m---> 19\u001b[1;33m \u001b[1;32mfor\u001b[0m \u001b[1;33m(\u001b[0m\u001b[0mname\u001b[0m\u001b[1;33m,\u001b[0m \u001b[0mmodel\u001b[0m\u001b[1;33m)\u001b[0m \u001b[1;32min\u001b[0m \u001b[0mmodel_list_2\u001b[0m\u001b[1;33m:\u001b[0m\u001b[1;33m\u001b[0m\u001b[0m\n\u001b[0m\u001b[0;32m     20\u001b[0m     \u001b[0mprediction_train\u001b[0m \u001b[1;33m=\u001b[0m \u001b[0mmodel\u001b[0m\u001b[1;33m.\u001b[0m\u001b[0mpredict\u001b[0m\u001b[1;33m(\u001b[0m\u001b[0mX_train\u001b[0m\u001b[1;33m)\u001b[0m\u001b[1;33m\u001b[0m\u001b[0m\n\u001b[0;32m     21\u001b[0m     \u001b[0maccuracy_train\u001b[0m\u001b[1;33m[\u001b[0m\u001b[0mname\u001b[0m\u001b[1;33m]\u001b[0m \u001b[1;33m=\u001b[0m \u001b[0mmetrics\u001b[0m\u001b[1;33m.\u001b[0m\u001b[0maccuracy_score\u001b[0m\u001b[1;33m(\u001b[0m\u001b[0my_train\u001b[0m\u001b[1;33m,\u001b[0m \u001b[0mprediction_train\u001b[0m\u001b[1;33m)\u001b[0m\u001b[1;33m\u001b[0m\u001b[0m\n",
      "\u001b[1;31mNameError\u001b[0m: name 'model_list_2' is not defined"
     ]
    }
   ],
   "source": [
    "from sklearn.model_selection import (train_test_split,KFold)\n",
    "X_train, X_test, y_train, y_test = train_test_split(X_resampled, y_resampled,test_size = 0.3, random_state=42)\n",
    "\n",
    "# All the models we want to test out, in one list.\n",
    "model_list = [('Decision Tree', tree.DecisionTreeClassifier(criterion='entropy')),\n",
    "              ('Bagging', BaggingClassifier(tree.DecisionTreeClassifier(criterion='entropy'), random_state=1)),\n",
    "              ('Random Forest', RandomForestClassifier(n_estimators=10, random_state=1)),\n",
    "              ('Gradient Boosting', GradientBoostingClassifier(n_estimators=200, max_depth=4, random_state=1))]\n",
    "\n",
    "for (name, model) in model_list:\n",
    "    print 'Fitting', name\n",
    "    model.fit(X_train, y_train)\n",
    "\n",
    "accuracy_train = {}\n",
    "accuracy_test = {}\n",
    "cm = {}\n",
    "mcc={}\n",
    "TPR={}\n",
    "for (name, model) in model_list_2:\n",
    "    prediction_train = model.predict(X_train)\n",
    "    accuracy_train[name] = metrics.accuracy_score(y_train, prediction_train)\n",
    "    prediction_test = model.predict(X_test)\n",
    "    accuracy_test[name] = metrics.accuracy_score(y_test, prediction_test)\n",
    "    cm[name] = confusion_matrix(y_test,prediction_test)\n",
    "    TP = cm[name][1][1]\n",
    "    FP = cm[name][0][1]\n",
    "    TN = cm[name][0][0]\n",
    "    FN = cm[name][1][0]\n",
    "\n",
    "    #print (TP+FP),(TP+FN),(TN+FP),(TN+FN)\n",
    "    a = (TP+FP)*(TP+FN)\n",
    "    b = (TN+FP)*(TN+FN)\n",
    "    mcc[name]= (TP*TN-FP*FN)*1.0/np.sqrt(float(a)*float(b))\n",
    "    TPR[name] = TP*1.0/(TP+FN)\n",
    "print cm\n",
    "results = pd.DataFrame({'Training Accuracy':accuracy_train, 'Test Accuracy':accuracy_test,'MCC':mcc,'TPR':TPR})\n",
    "results"
   ]
  },
  {
   "cell_type": "markdown",
   "metadata": {},
   "source": [
    "# Model Using ensemble methods"
   ]
  },
  {
   "cell_type": "code",
   "execution_count": null,
   "metadata": {
    "collapsed": false
   },
   "outputs": [],
   "source": [
    "from sklearn.ensemble import RandomForestClassifier, ExtraTreesClassifier\n",
    "from sklearn.ensemble import GradientBoostingClassifier\n",
    "from sklearn.ensemble import BaggingClassifier\n",
    "from sklearn import tree\n",
    "from sklearn.metrics import mean_squared_error, confusion_matrix\n",
    "\n",
    "# All the models we want to test out, in one list.\n",
    "model_list = [('Decision Tree', tree.DecisionTreeClassifier(criterion='entropy')),\n",
    "              ('Bagging', BaggingClassifier(tree.DecisionTreeClassifier(criterion='entropy'), random_state=1)),\n",
    "              ('Random Forest', RandomForestClassifier(n_estimators=10, random_state=1)),\n",
    "              ('Gradient Boosting', GradientBoostingClassifier(n_estimators=200, max_depth=4, random_state=1))]\n",
    "\n",
    "for (name, model) in model_list:\n",
    "    print 'Fitting', name\n",
    "    model.fit(X_train, y_train)\n"
   ]
  },
  {
   "cell_type": "code",
   "execution_count": null,
   "metadata": {
    "collapsed": false
   },
   "outputs": [],
   "source": [
    "from sklearn import metrics\n",
    "\n",
    "accuracy_train = {}\n",
    "accuracy_test = {}\n",
    "for (name, model) in model_list:\n",
    "    prediction_train = model.predict(X_train)\n",
    "    accuracy_train[name] = metrics.accuracy_score(y_train, prediction_train)\n",
    "    prediction_test = model.predict(X_test)\n",
    "    accuracy_test[name] = metrics.accuracy_score(y_test, prediction_test)\n",
    "    \n",
    "results = pd.DataFrame({'Training Accuracy':accuracy_train, 'Test Accuracy':accuracy_test})\n",
    "results\n",
    "\n",
    "# Random undersampling\n",
    "#Test Accuracy\tTraining Accuracy\n",
    "#Bagging\t0.617801\t0.988713\n",
    "#Decision Tree\t0.575916\t1.000000\n",
    "#Gradient Boosting\t0.602094\t1.000000\n",
    "#Random Forest\t0.570681\t0.993228"
   ]
  },
  {
   "cell_type": "code",
   "execution_count": null,
   "metadata": {
    "collapsed": false
   },
   "outputs": [],
   "source": [
    "import itertools\n",
    "cm = confusion_matrix(y_train,prediction_train)\n",
    "np.set_printoptions(precision=3)\n",
    "class_names = ['defect','ok']\n",
    "\n",
    "def plot_confusion_matrix(cm, classes,\n",
    "                          normalize=False,\n",
    "                          title='Confusion matrix',\n",
    "                          cmap=plt.cm.Blues):\n",
    "    \"\"\"\n",
    "    This function prints and plots the confusion matrix.\n",
    "    Normalization can be applied by setting `normalize=True`.\n",
    "    \"\"\"\n",
    "    plt.imshow(cm, interpolation='nearest', cmap=cmap)\n",
    "    plt.title(title)\n",
    "    plt.colorbar()\n",
    "    tick_marks = np.arange(len(classes))\n",
    "    plt.xticks(tick_marks, classes, rotation=45)\n",
    "    plt.yticks(tick_marks, classes)\n",
    "\n",
    "    if normalize:\n",
    "        cm = cm.astype('float') / cm.sum(axis=1)[:, np.newaxis]\n",
    "        print(\"Normalized confusion matrix\")\n",
    "    else:\n",
    "        print('Confusion matrix, without normalization')\n",
    "\n",
    "    print(cm)\n",
    "\n",
    "    thresh = cm.max() / 2.\n",
    "    for i, j in itertools.product(range(cm.shape[0]), range(cm.shape[1])):\n",
    "        plt.text(j, i, cm[i, j],\n",
    "                 horizontalalignment=\"center\",\n",
    "                 color=\"white\" if cm[i, j] > thresh else \"black\")\n",
    "\n",
    "    plt.tight_layout()\n",
    "    plt.ylabel('True label')\n",
    "    plt.xlabel('Predicted label')\n",
    "\n",
    "# Plot normalized confusion matrix\n",
    "plt.figure()\n",
    "plot_confusion_matrix(cm, class_names, normalize=True,\n",
    "                      title='Normalized confusion matrix')"
   ]
  },
  {
   "cell_type": "code",
   "execution_count": null,
   "metadata": {
    "collapsed": false,
    "scrolled": true
   },
   "outputs": [],
   "source": [
    "%pylab inline\n",
    "scores = {}\n",
    "for num_trees in [50, 100, 200, 300, 400]:\n",
    "    model = GradientBoostingClassifier(n_estimators=num_trees, max_depth=2, random_state=1)\n",
    "    model.fit(X_train, y_train)\n",
    "    prediction_test = model.predict(X_test)\n",
    "    accuracy_test = metrics.accuracy_score(y_test, prediction_test)\n",
    "    scores[num_trees] = accuracy_test\n",
    "pd.Series(scores).sort_index().plot()\n",
    "xlabel('Number of trees in ensemble')\n",
    "ylabel('Test accuracy')"
   ]
  },
  {
   "cell_type": "code",
   "execution_count": null,
   "metadata": {
    "collapsed": false
   },
   "outputs": [],
   "source": [
    "scores = {}\n",
    "for depth in range(1, 11):\n",
    "    model = GradientBoostingClassifier(n_estimators=100, max_depth=depth, random_state=1)\n",
    "    model.fit(X_train, y_train)\n",
    "    prediction_test = model.predict(X_test)\n",
    "    accuracy_test = metrics.accuracy_score(y_test, prediction_test)\n",
    "    scores[depth] = accuracy_test\n",
    "pd.Series(scores).sort_index().plot()\n",
    "xlabel('Depth of trees in ensemble')\n",
    "ylabel('Test accuracy')"
   ]
  },
  {
   "cell_type": "code",
   "execution_count": null,
   "metadata": {
    "collapsed": false
   },
   "outputs": [],
   "source": [
    "from sklearn.metrics import precision_recall_curve\n",
    "\n",
    "for index, (name, model) in enumerate(model_list):\n",
    "    predictions = model.predict_proba(X_test)\n",
    "    precision, recall, thresholds = precision_recall_curve(y_test, predictions[:, 1])\n",
    "    plot(recall, precision, label=name)\n",
    "\n",
    "xlabel('Recall')\n",
    "ylabel('Precision')\n",
    "legend(loc='best')"
   ]
  },
  {
   "cell_type": "code",
   "execution_count": null,
   "metadata": {
    "collapsed": true
   },
   "outputs": [],
   "source": []
  },
  {
   "cell_type": "code",
   "execution_count": null,
   "metadata": {
    "collapsed": true
   },
   "outputs": [],
   "source": []
  },
  {
   "cell_type": "code",
   "execution_count": 3,
   "metadata": {
    "collapsed": true
   },
   "outputs": [],
   "source": [
    "import pandas as pd\n",
    "import numpy as np\n",
    "import seaborn as sns\n",
    "import matplotlib.pyplot as plt\n",
    "%matplotlib inline\n",
    "sns.set(style=\"white\")"
   ]
  },
  {
   "cell_type": "code",
   "execution_count": 4,
   "metadata": {
    "collapsed": false
   },
   "outputs": [
    {
     "data": {
      "text/html": [
       "<div>\n",
       "<table border=\"1\" class=\"dataframe\">\n",
       "  <thead>\n",
       "    <tr style=\"text-align: right;\">\n",
       "      <th></th>\n",
       "      <th>Id</th>\n",
       "      <th>Response</th>\n",
       "      <th>L0_S0_D1</th>\n",
       "      <th>L0_S0_D3</th>\n",
       "      <th>L0_S0_D5</th>\n",
       "      <th>L0_S0_D7</th>\n",
       "      <th>L0_S0_D9</th>\n",
       "      <th>L0_S0_D11</th>\n",
       "      <th>L0_S0_D13</th>\n",
       "      <th>L0_S0_D15</th>\n",
       "      <th>...</th>\n",
       "      <th>L3_S50_D4246</th>\n",
       "      <th>L3_S50_D4248</th>\n",
       "      <th>L3_S50_D4250</th>\n",
       "      <th>L3_S50_D4252</th>\n",
       "      <th>L3_S50_D4254</th>\n",
       "      <th>L3_S51_D4255</th>\n",
       "      <th>L3_S51_D4257</th>\n",
       "      <th>L3_S51_D4259</th>\n",
       "      <th>L3_S51_D4261</th>\n",
       "      <th>L3_S51_D4263</th>\n",
       "    </tr>\n",
       "  </thead>\n",
       "  <tbody>\n",
       "    <tr>\n",
       "      <th>0</th>\n",
       "      <td>632173</td>\n",
       "      <td>0</td>\n",
       "      <td>NaN</td>\n",
       "      <td>NaN</td>\n",
       "      <td>NaN</td>\n",
       "      <td>NaN</td>\n",
       "      <td>NaN</td>\n",
       "      <td>NaN</td>\n",
       "      <td>NaN</td>\n",
       "      <td>NaN</td>\n",
       "      <td>...</td>\n",
       "      <td>NaN</td>\n",
       "      <td>NaN</td>\n",
       "      <td>NaN</td>\n",
       "      <td>NaN</td>\n",
       "      <td>NaN</td>\n",
       "      <td>NaN</td>\n",
       "      <td>NaN</td>\n",
       "      <td>NaN</td>\n",
       "      <td>NaN</td>\n",
       "      <td>NaN</td>\n",
       "    </tr>\n",
       "    <tr>\n",
       "      <th>1</th>\n",
       "      <td>1683751</td>\n",
       "      <td>0</td>\n",
       "      <td>NaN</td>\n",
       "      <td>NaN</td>\n",
       "      <td>NaN</td>\n",
       "      <td>NaN</td>\n",
       "      <td>NaN</td>\n",
       "      <td>NaN</td>\n",
       "      <td>NaN</td>\n",
       "      <td>NaN</td>\n",
       "      <td>...</td>\n",
       "      <td>NaN</td>\n",
       "      <td>NaN</td>\n",
       "      <td>NaN</td>\n",
       "      <td>NaN</td>\n",
       "      <td>NaN</td>\n",
       "      <td>NaN</td>\n",
       "      <td>NaN</td>\n",
       "      <td>NaN</td>\n",
       "      <td>NaN</td>\n",
       "      <td>NaN</td>\n",
       "    </tr>\n",
       "    <tr>\n",
       "      <th>2</th>\n",
       "      <td>1269884</td>\n",
       "      <td>0</td>\n",
       "      <td>NaN</td>\n",
       "      <td>NaN</td>\n",
       "      <td>NaN</td>\n",
       "      <td>NaN</td>\n",
       "      <td>NaN</td>\n",
       "      <td>NaN</td>\n",
       "      <td>NaN</td>\n",
       "      <td>NaN</td>\n",
       "      <td>...</td>\n",
       "      <td>NaN</td>\n",
       "      <td>NaN</td>\n",
       "      <td>NaN</td>\n",
       "      <td>NaN</td>\n",
       "      <td>NaN</td>\n",
       "      <td>NaN</td>\n",
       "      <td>NaN</td>\n",
       "      <td>NaN</td>\n",
       "      <td>NaN</td>\n",
       "      <td>NaN</td>\n",
       "    </tr>\n",
       "    <tr>\n",
       "      <th>3</th>\n",
       "      <td>452561</td>\n",
       "      <td>0</td>\n",
       "      <td>1375.86</td>\n",
       "      <td>1375.86</td>\n",
       "      <td>1375.86</td>\n",
       "      <td>1375.86</td>\n",
       "      <td>1375.86</td>\n",
       "      <td>1375.86</td>\n",
       "      <td>1375.86</td>\n",
       "      <td>1375.86</td>\n",
       "      <td>...</td>\n",
       "      <td>1377.4</td>\n",
       "      <td>1377.4</td>\n",
       "      <td>1377.4</td>\n",
       "      <td>1377.4</td>\n",
       "      <td>1377.4</td>\n",
       "      <td>1377.41</td>\n",
       "      <td>1377.41</td>\n",
       "      <td>1377.41</td>\n",
       "      <td>1377.41</td>\n",
       "      <td>1377.41</td>\n",
       "    </tr>\n",
       "    <tr>\n",
       "      <th>4</th>\n",
       "      <td>1290622</td>\n",
       "      <td>0</td>\n",
       "      <td>104.16</td>\n",
       "      <td>104.16</td>\n",
       "      <td>104.16</td>\n",
       "      <td>104.16</td>\n",
       "      <td>104.16</td>\n",
       "      <td>104.16</td>\n",
       "      <td>104.16</td>\n",
       "      <td>104.16</td>\n",
       "      <td>...</td>\n",
       "      <td>NaN</td>\n",
       "      <td>NaN</td>\n",
       "      <td>NaN</td>\n",
       "      <td>NaN</td>\n",
       "      <td>NaN</td>\n",
       "      <td>NaN</td>\n",
       "      <td>NaN</td>\n",
       "      <td>NaN</td>\n",
       "      <td>NaN</td>\n",
       "      <td>NaN</td>\n",
       "    </tr>\n",
       "  </tbody>\n",
       "</table>\n",
       "<p>5 rows × 1158 columns</p>\n",
       "</div>"
      ],
      "text/plain": [
       "        Id  Response  L0_S0_D1  L0_S0_D3  L0_S0_D5  L0_S0_D7  L0_S0_D9  \\\n",
       "0   632173         0       NaN       NaN       NaN       NaN       NaN   \n",
       "1  1683751         0       NaN       NaN       NaN       NaN       NaN   \n",
       "2  1269884         0       NaN       NaN       NaN       NaN       NaN   \n",
       "3   452561         0   1375.86   1375.86   1375.86   1375.86   1375.86   \n",
       "4  1290622         0    104.16    104.16    104.16    104.16    104.16   \n",
       "\n",
       "   L0_S0_D11  L0_S0_D13  L0_S0_D15      ...       L3_S50_D4246  L3_S50_D4248  \\\n",
       "0        NaN        NaN        NaN      ...                NaN           NaN   \n",
       "1        NaN        NaN        NaN      ...                NaN           NaN   \n",
       "2        NaN        NaN        NaN      ...                NaN           NaN   \n",
       "3    1375.86    1375.86    1375.86      ...             1377.4        1377.4   \n",
       "4     104.16     104.16     104.16      ...                NaN           NaN   \n",
       "\n",
       "   L3_S50_D4250  L3_S50_D4252  L3_S50_D4254  L3_S51_D4255  L3_S51_D4257  \\\n",
       "0           NaN           NaN           NaN           NaN           NaN   \n",
       "1           NaN           NaN           NaN           NaN           NaN   \n",
       "2           NaN           NaN           NaN           NaN           NaN   \n",
       "3        1377.4        1377.4        1377.4       1377.41       1377.41   \n",
       "4           NaN           NaN           NaN           NaN           NaN   \n",
       "\n",
       "   L3_S51_D4259  L3_S51_D4261  L3_S51_D4263  \n",
       "0           NaN           NaN           NaN  \n",
       "1           NaN           NaN           NaN  \n",
       "2           NaN           NaN           NaN  \n",
       "3       1377.41       1377.41       1377.41  \n",
       "4           NaN           NaN           NaN  \n",
       "\n",
       "[5 rows x 1158 columns]"
      ]
     },
     "execution_count": 4,
     "metadata": {},
     "output_type": "execute_result"
    }
   ],
   "source": [
    "train_date = pd.read_csv('train_date_response.csv')\n",
    "del train_date[train_date.columns[0]]\n",
    "train_date.head()"
   ]
  },
  {
   "cell_type": "code",
   "execution_count": 5,
   "metadata": {
    "collapsed": false
   },
   "outputs": [
    {
     "data": {
      "text/html": [
       "<div>\n",
       "<table border=\"1\" class=\"dataframe\">\n",
       "  <thead>\n",
       "    <tr style=\"text-align: right;\">\n",
       "      <th></th>\n",
       "      <th>Id</th>\n",
       "      <th>Response</th>\n",
       "      <th>L0_S0_D1</th>\n",
       "      <th>L0_S0_D3</th>\n",
       "      <th>L0_S0_D5</th>\n",
       "      <th>L0_S0_D7</th>\n",
       "      <th>L0_S0_D9</th>\n",
       "      <th>L0_S0_D11</th>\n",
       "      <th>L0_S0_D13</th>\n",
       "      <th>L0_S0_D15</th>\n",
       "      <th>...</th>\n",
       "      <th>L3_S50_D4246</th>\n",
       "      <th>L3_S50_D4248</th>\n",
       "      <th>L3_S50_D4250</th>\n",
       "      <th>L3_S50_D4252</th>\n",
       "      <th>L3_S50_D4254</th>\n",
       "      <th>L3_S51_D4255</th>\n",
       "      <th>L3_S51_D4257</th>\n",
       "      <th>L3_S51_D4259</th>\n",
       "      <th>L3_S51_D4261</th>\n",
       "      <th>L3_S51_D4263</th>\n",
       "    </tr>\n",
       "  </thead>\n",
       "  <tbody>\n",
       "    <tr>\n",
       "      <th>0</th>\n",
       "      <td>632173</td>\n",
       "      <td>0</td>\n",
       "      <td>NaN</td>\n",
       "      <td>NaN</td>\n",
       "      <td>NaN</td>\n",
       "      <td>NaN</td>\n",
       "      <td>NaN</td>\n",
       "      <td>NaN</td>\n",
       "      <td>NaN</td>\n",
       "      <td>NaN</td>\n",
       "      <td>...</td>\n",
       "      <td>NaN</td>\n",
       "      <td>NaN</td>\n",
       "      <td>NaN</td>\n",
       "      <td>NaN</td>\n",
       "      <td>NaN</td>\n",
       "      <td>NaN</td>\n",
       "      <td>NaN</td>\n",
       "      <td>NaN</td>\n",
       "      <td>NaN</td>\n",
       "      <td>NaN</td>\n",
       "    </tr>\n",
       "    <tr>\n",
       "      <th>1</th>\n",
       "      <td>1683751</td>\n",
       "      <td>0</td>\n",
       "      <td>NaN</td>\n",
       "      <td>NaN</td>\n",
       "      <td>NaN</td>\n",
       "      <td>NaN</td>\n",
       "      <td>NaN</td>\n",
       "      <td>NaN</td>\n",
       "      <td>NaN</td>\n",
       "      <td>NaN</td>\n",
       "      <td>...</td>\n",
       "      <td>NaN</td>\n",
       "      <td>NaN</td>\n",
       "      <td>NaN</td>\n",
       "      <td>NaN</td>\n",
       "      <td>NaN</td>\n",
       "      <td>NaN</td>\n",
       "      <td>NaN</td>\n",
       "      <td>NaN</td>\n",
       "      <td>NaN</td>\n",
       "      <td>NaN</td>\n",
       "    </tr>\n",
       "    <tr>\n",
       "      <th>2</th>\n",
       "      <td>1269884</td>\n",
       "      <td>0</td>\n",
       "      <td>NaN</td>\n",
       "      <td>NaN</td>\n",
       "      <td>NaN</td>\n",
       "      <td>NaN</td>\n",
       "      <td>NaN</td>\n",
       "      <td>NaN</td>\n",
       "      <td>NaN</td>\n",
       "      <td>NaN</td>\n",
       "      <td>...</td>\n",
       "      <td>NaN</td>\n",
       "      <td>NaN</td>\n",
       "      <td>NaN</td>\n",
       "      <td>NaN</td>\n",
       "      <td>NaN</td>\n",
       "      <td>NaN</td>\n",
       "      <td>NaN</td>\n",
       "      <td>NaN</td>\n",
       "      <td>NaN</td>\n",
       "      <td>NaN</td>\n",
       "    </tr>\n",
       "    <tr>\n",
       "      <th>3</th>\n",
       "      <td>452561</td>\n",
       "      <td>0</td>\n",
       "      <td>1375.86</td>\n",
       "      <td>1375.86</td>\n",
       "      <td>1375.86</td>\n",
       "      <td>1375.86</td>\n",
       "      <td>1375.86</td>\n",
       "      <td>1375.86</td>\n",
       "      <td>1375.86</td>\n",
       "      <td>1375.86</td>\n",
       "      <td>...</td>\n",
       "      <td>1377.4</td>\n",
       "      <td>1377.4</td>\n",
       "      <td>1377.4</td>\n",
       "      <td>1377.4</td>\n",
       "      <td>1377.4</td>\n",
       "      <td>1377.41</td>\n",
       "      <td>1377.41</td>\n",
       "      <td>1377.41</td>\n",
       "      <td>1377.41</td>\n",
       "      <td>1377.41</td>\n",
       "    </tr>\n",
       "    <tr>\n",
       "      <th>4</th>\n",
       "      <td>1290622</td>\n",
       "      <td>0</td>\n",
       "      <td>104.16</td>\n",
       "      <td>104.16</td>\n",
       "      <td>104.16</td>\n",
       "      <td>104.16</td>\n",
       "      <td>104.16</td>\n",
       "      <td>104.16</td>\n",
       "      <td>104.16</td>\n",
       "      <td>104.16</td>\n",
       "      <td>...</td>\n",
       "      <td>NaN</td>\n",
       "      <td>NaN</td>\n",
       "      <td>NaN</td>\n",
       "      <td>NaN</td>\n",
       "      <td>NaN</td>\n",
       "      <td>NaN</td>\n",
       "      <td>NaN</td>\n",
       "      <td>NaN</td>\n",
       "      <td>NaN</td>\n",
       "      <td>NaN</td>\n",
       "    </tr>\n",
       "  </tbody>\n",
       "</table>\n",
       "<p>5 rows × 1158 columns</p>\n",
       "</div>"
      ],
      "text/plain": [
       "        Id  Response  L0_S0_D1  L0_S0_D3  L0_S0_D5  L0_S0_D7  L0_S0_D9  \\\n",
       "0   632173         0       NaN       NaN       NaN       NaN       NaN   \n",
       "1  1683751         0       NaN       NaN       NaN       NaN       NaN   \n",
       "2  1269884         0       NaN       NaN       NaN       NaN       NaN   \n",
       "3   452561         0   1375.86   1375.86   1375.86   1375.86   1375.86   \n",
       "4  1290622         0    104.16    104.16    104.16    104.16    104.16   \n",
       "\n",
       "   L0_S0_D11  L0_S0_D13  L0_S0_D15      ...       L3_S50_D4246  L3_S50_D4248  \\\n",
       "0        NaN        NaN        NaN      ...                NaN           NaN   \n",
       "1        NaN        NaN        NaN      ...                NaN           NaN   \n",
       "2        NaN        NaN        NaN      ...                NaN           NaN   \n",
       "3    1375.86    1375.86    1375.86      ...             1377.4        1377.4   \n",
       "4     104.16     104.16     104.16      ...                NaN           NaN   \n",
       "\n",
       "   L3_S50_D4250  L3_S50_D4252  L3_S50_D4254  L3_S51_D4255  L3_S51_D4257  \\\n",
       "0           NaN           NaN           NaN           NaN           NaN   \n",
       "1           NaN           NaN           NaN           NaN           NaN   \n",
       "2           NaN           NaN           NaN           NaN           NaN   \n",
       "3        1377.4        1377.4        1377.4       1377.41       1377.41   \n",
       "4           NaN           NaN           NaN           NaN           NaN   \n",
       "\n",
       "   L3_S51_D4259  L3_S51_D4261  L3_S51_D4263  \n",
       "0           NaN           NaN           NaN  \n",
       "1           NaN           NaN           NaN  \n",
       "2           NaN           NaN           NaN  \n",
       "3       1377.41       1377.41       1377.41  \n",
       "4           NaN           NaN           NaN  \n",
       "\n",
       "[5 rows x 1158 columns]"
      ]
     },
     "execution_count": 5,
     "metadata": {},
     "output_type": "execute_result"
    }
   ],
   "source": [
    "train_date = pd.read_csv('train_date_response.csv')\n",
    "del train_date[train_date.columns[0]]\n",
    "train_date.head()"
   ]
  },
  {
   "cell_type": "code",
   "execution_count": 6,
   "metadata": {
    "collapsed": true
   },
   "outputs": [],
   "source": [
    "data = train_date.drop(['Id','Response'],1)\n",
    "df = train_date[['Id','Response']]"
   ]
  },
  {
   "cell_type": "code",
   "execution_count": 7,
   "metadata": {
    "collapsed": true
   },
   "outputs": [],
   "source": [
    "train_date['Detection Frequency'] = train_date.count(axis=1)-2"
   ]
  },
  {
   "cell_type": "code",
   "execution_count": 8,
   "metadata": {
    "collapsed": true
   },
   "outputs": [],
   "source": [
    "fail = train_date[train_date['Response'] == 1]\n",
    "success = train_date[train_date['Response'] == 0]"
   ]
  },
  {
   "cell_type": "code",
   "execution_count": 9,
   "metadata": {
    "collapsed": true
   },
   "outputs": [],
   "source": [
    "features = data.columns.values\n",
    "\n",
    "def orgainize(features):\n",
    "    line_features = {}\n",
    "    station_features = {}\n",
    "    lines = set([f.split('_')[0] for f in features])\n",
    "    stations = set([f.split('_')[1] for f in features])\n",
    "    \n",
    "    for l in lines:\n",
    "        line_features[l] = [f for f in features if l+'_' in f]\n",
    "        \n",
    "    for s in stations:\n",
    "        station_features[s] = [f for f in features if s+'_' in f]\n",
    "                    \n",
    "    return line_features, station_features\n",
    "\n",
    "line_features, station_features = orgainize(features)"
   ]
  },
  {
   "cell_type": "code",
   "execution_count": 10,
   "metadata": {
    "collapsed": false
   },
   "outputs": [
    {
     "data": {
      "text/html": [
       "<div>\n",
       "<table border=\"1\" class=\"dataframe\">\n",
       "  <thead>\n",
       "    <tr style=\"text-align: right;\">\n",
       "      <th></th>\n",
       "      <th>Features</th>\n",
       "      <th>Samples</th>\n",
       "      <th>Error_Rate</th>\n",
       "    </tr>\n",
       "  </thead>\n",
       "  <tbody>\n",
       "    <tr>\n",
       "      <th>S0</th>\n",
       "      <td>12</td>\n",
       "      <td>28385</td>\n",
       "      <td>0.005633</td>\n",
       "    </tr>\n",
       "    <tr>\n",
       "      <th>S1</th>\n",
       "      <td>2</td>\n",
       "      <td>28397</td>\n",
       "      <td>0.005631</td>\n",
       "    </tr>\n",
       "    <tr>\n",
       "      <th>S10</th>\n",
       "      <td>13</td>\n",
       "      <td>9439</td>\n",
       "      <td>0.005754</td>\n",
       "    </tr>\n",
       "    <tr>\n",
       "      <th>S11</th>\n",
       "      <td>13</td>\n",
       "      <td>9501</td>\n",
       "      <td>0.005929</td>\n",
       "    </tr>\n",
       "    <tr>\n",
       "      <th>S12</th>\n",
       "      <td>12</td>\n",
       "      <td>10236</td>\n",
       "      <td>0.006886</td>\n",
       "    </tr>\n",
       "    <tr>\n",
       "      <th>S13</th>\n",
       "      <td>2</td>\n",
       "      <td>10236</td>\n",
       "      <td>0.006886</td>\n",
       "    </tr>\n",
       "    <tr>\n",
       "      <th>S14</th>\n",
       "      <td>9</td>\n",
       "      <td>5125</td>\n",
       "      <td>0.006086</td>\n",
       "    </tr>\n",
       "    <tr>\n",
       "      <th>S15</th>\n",
       "      <td>9</td>\n",
       "      <td>5114</td>\n",
       "      <td>0.007685</td>\n",
       "    </tr>\n",
       "    <tr>\n",
       "      <th>S16</th>\n",
       "      <td>2</td>\n",
       "      <td>5053</td>\n",
       "      <td>0.006975</td>\n",
       "    </tr>\n",
       "    <tr>\n",
       "      <th>S17</th>\n",
       "      <td>2</td>\n",
       "      <td>5186</td>\n",
       "      <td>0.006795</td>\n",
       "    </tr>\n",
       "    <tr>\n",
       "      <th>S18</th>\n",
       "      <td>5</td>\n",
       "      <td>5145</td>\n",
       "      <td>0.005865</td>\n",
       "    </tr>\n",
       "    <tr>\n",
       "      <th>S19</th>\n",
       "      <td>5</td>\n",
       "      <td>5093</td>\n",
       "      <td>0.007916</td>\n",
       "    </tr>\n",
       "    <tr>\n",
       "      <th>S2</th>\n",
       "      <td>9</td>\n",
       "      <td>14054</td>\n",
       "      <td>0.005869</td>\n",
       "    </tr>\n",
       "    <tr>\n",
       "      <th>S20</th>\n",
       "      <td>4</td>\n",
       "      <td>10238</td>\n",
       "      <td>0.006884</td>\n",
       "    </tr>\n",
       "    <tr>\n",
       "      <th>S21</th>\n",
       "      <td>15</td>\n",
       "      <td>3431</td>\n",
       "      <td>0.007932</td>\n",
       "    </tr>\n",
       "    <tr>\n",
       "      <th>S22</th>\n",
       "      <td>15</td>\n",
       "      <td>3441</td>\n",
       "      <td>0.006140</td>\n",
       "    </tr>\n",
       "    <tr>\n",
       "      <th>S23</th>\n",
       "      <td>15</td>\n",
       "      <td>3371</td>\n",
       "      <td>0.006569</td>\n",
       "    </tr>\n",
       "    <tr>\n",
       "      <th>S24</th>\n",
       "      <td>288</td>\n",
       "      <td>0</td>\n",
       "      <td>NaN</td>\n",
       "    </tr>\n",
       "    <tr>\n",
       "      <th>S25</th>\n",
       "      <td>333</td>\n",
       "      <td>0</td>\n",
       "      <td>NaN</td>\n",
       "    </tr>\n",
       "    <tr>\n",
       "      <th>S26</th>\n",
       "      <td>26</td>\n",
       "      <td>9562</td>\n",
       "      <td>0.007587</td>\n",
       "    </tr>\n",
       "    <tr>\n",
       "      <th>S27</th>\n",
       "      <td>26</td>\n",
       "      <td>5098</td>\n",
       "      <td>0.007510</td>\n",
       "    </tr>\n",
       "    <tr>\n",
       "      <th>S28</th>\n",
       "      <td>26</td>\n",
       "      <td>386</td>\n",
       "      <td>0.015789</td>\n",
       "    </tr>\n",
       "    <tr>\n",
       "      <th>S29</th>\n",
       "      <td>63</td>\n",
       "      <td>45220</td>\n",
       "      <td>0.006320</td>\n",
       "    </tr>\n",
       "    <tr>\n",
       "      <th>S3</th>\n",
       "      <td>9</td>\n",
       "      <td>14359</td>\n",
       "      <td>0.005321</td>\n",
       "    </tr>\n",
       "    <tr>\n",
       "      <th>S30</th>\n",
       "      <td>68</td>\n",
       "      <td>34328</td>\n",
       "      <td>0.006096</td>\n",
       "    </tr>\n",
       "    <tr>\n",
       "      <th>S31</th>\n",
       "      <td>4</td>\n",
       "      <td>1558</td>\n",
       "      <td>0.003866</td>\n",
       "    </tr>\n",
       "    <tr>\n",
       "      <th>S32</th>\n",
       "      <td>1</td>\n",
       "      <td>1044</td>\n",
       "      <td>0.046092</td>\n",
       "    </tr>\n",
       "    <tr>\n",
       "      <th>S33</th>\n",
       "      <td>10</td>\n",
       "      <td>47071</td>\n",
       "      <td>0.005447</td>\n",
       "    </tr>\n",
       "    <tr>\n",
       "      <th>S34</th>\n",
       "      <td>5</td>\n",
       "      <td>47076</td>\n",
       "      <td>0.005618</td>\n",
       "    </tr>\n",
       "    <tr>\n",
       "      <th>S35</th>\n",
       "      <td>8</td>\n",
       "      <td>23438</td>\n",
       "      <td>0.006182</td>\n",
       "    </tr>\n",
       "    <tr>\n",
       "      <th>S36</th>\n",
       "      <td>8</td>\n",
       "      <td>23899</td>\n",
       "      <td>0.006486</td>\n",
       "    </tr>\n",
       "    <tr>\n",
       "      <th>S37</th>\n",
       "      <td>6</td>\n",
       "      <td>47312</td>\n",
       "      <td>0.006317</td>\n",
       "    </tr>\n",
       "    <tr>\n",
       "      <th>S38</th>\n",
       "      <td>3</td>\n",
       "      <td>1121</td>\n",
       "      <td>0.007188</td>\n",
       "    </tr>\n",
       "    <tr>\n",
       "      <th>S39</th>\n",
       "      <td>4</td>\n",
       "      <td>2529</td>\n",
       "      <td>0.007168</td>\n",
       "    </tr>\n",
       "    <tr>\n",
       "      <th>S4</th>\n",
       "      <td>2</td>\n",
       "      <td>14269</td>\n",
       "      <td>0.005993</td>\n",
       "    </tr>\n",
       "    <tr>\n",
       "      <th>S40</th>\n",
       "      <td>8</td>\n",
       "      <td>2528</td>\n",
       "      <td>0.007171</td>\n",
       "    </tr>\n",
       "    <tr>\n",
       "      <th>S41</th>\n",
       "      <td>18</td>\n",
       "      <td>2530</td>\n",
       "      <td>0.007166</td>\n",
       "    </tr>\n",
       "    <tr>\n",
       "      <th>S42</th>\n",
       "      <td>8</td>\n",
       "      <td>0</td>\n",
       "      <td>NaN</td>\n",
       "    </tr>\n",
       "    <tr>\n",
       "      <th>S43</th>\n",
       "      <td>8</td>\n",
       "      <td>1311</td>\n",
       "      <td>0.007686</td>\n",
       "    </tr>\n",
       "    <tr>\n",
       "      <th>S44</th>\n",
       "      <td>8</td>\n",
       "      <td>1235</td>\n",
       "      <td>0.006520</td>\n",
       "    </tr>\n",
       "    <tr>\n",
       "      <th>S45</th>\n",
       "      <td>5</td>\n",
       "      <td>2529</td>\n",
       "      <td>0.007168</td>\n",
       "    </tr>\n",
       "    <tr>\n",
       "      <th>S46</th>\n",
       "      <td>1</td>\n",
       "      <td>0</td>\n",
       "      <td>NaN</td>\n",
       "    </tr>\n",
       "    <tr>\n",
       "      <th>S47</th>\n",
       "      <td>11</td>\n",
       "      <td>2528</td>\n",
       "      <td>0.007171</td>\n",
       "    </tr>\n",
       "    <tr>\n",
       "      <th>S48</th>\n",
       "      <td>7</td>\n",
       "      <td>2528</td>\n",
       "      <td>0.007171</td>\n",
       "    </tr>\n",
       "    <tr>\n",
       "      <th>S49</th>\n",
       "      <td>7</td>\n",
       "      <td>1231</td>\n",
       "      <td>0.008190</td>\n",
       "    </tr>\n",
       "    <tr>\n",
       "      <th>S5</th>\n",
       "      <td>2</td>\n",
       "      <td>14153</td>\n",
       "      <td>0.005256</td>\n",
       "    </tr>\n",
       "    <tr>\n",
       "      <th>S50</th>\n",
       "      <td>7</td>\n",
       "      <td>1300</td>\n",
       "      <td>0.006192</td>\n",
       "    </tr>\n",
       "    <tr>\n",
       "      <th>S51</th>\n",
       "      <td>5</td>\n",
       "      <td>2521</td>\n",
       "      <td>0.007191</td>\n",
       "    </tr>\n",
       "    <tr>\n",
       "      <th>S6</th>\n",
       "      <td>5</td>\n",
       "      <td>14340</td>\n",
       "      <td>0.005258</td>\n",
       "    </tr>\n",
       "    <tr>\n",
       "      <th>S7</th>\n",
       "      <td>5</td>\n",
       "      <td>14080</td>\n",
       "      <td>0.006002</td>\n",
       "    </tr>\n",
       "    <tr>\n",
       "      <th>S8</th>\n",
       "      <td>4</td>\n",
       "      <td>28398</td>\n",
       "      <td>0.005631</td>\n",
       "    </tr>\n",
       "    <tr>\n",
       "      <th>S9</th>\n",
       "      <td>13</td>\n",
       "      <td>9521</td>\n",
       "      <td>0.005173</td>\n",
       "    </tr>\n",
       "  </tbody>\n",
       "</table>\n",
       "</div>"
      ],
      "text/plain": [
       "     Features  Samples  Error_Rate\n",
       "S0         12    28385    0.005633\n",
       "S1          2    28397    0.005631\n",
       "S10        13     9439    0.005754\n",
       "S11        13     9501    0.005929\n",
       "S12        12    10236    0.006886\n",
       "S13         2    10236    0.006886\n",
       "S14         9     5125    0.006086\n",
       "S15         9     5114    0.007685\n",
       "S16         2     5053    0.006975\n",
       "S17         2     5186    0.006795\n",
       "S18         5     5145    0.005865\n",
       "S19         5     5093    0.007916\n",
       "S2          9    14054    0.005869\n",
       "S20         4    10238    0.006884\n",
       "S21        15     3431    0.007932\n",
       "S22        15     3441    0.006140\n",
       "S23        15     3371    0.006569\n",
       "S24       288        0         NaN\n",
       "S25       333        0         NaN\n",
       "S26        26     9562    0.007587\n",
       "S27        26     5098    0.007510\n",
       "S28        26      386    0.015789\n",
       "S29        63    45220    0.006320\n",
       "S3          9    14359    0.005321\n",
       "S30        68    34328    0.006096\n",
       "S31         4     1558    0.003866\n",
       "S32         1     1044    0.046092\n",
       "S33        10    47071    0.005447\n",
       "S34         5    47076    0.005618\n",
       "S35         8    23438    0.006182\n",
       "S36         8    23899    0.006486\n",
       "S37         6    47312    0.006317\n",
       "S38         3     1121    0.007188\n",
       "S39         4     2529    0.007168\n",
       "S4          2    14269    0.005993\n",
       "S40         8     2528    0.007171\n",
       "S41        18     2530    0.007166\n",
       "S42         8        0         NaN\n",
       "S43         8     1311    0.007686\n",
       "S44         8     1235    0.006520\n",
       "S45         5     2529    0.007168\n",
       "S46         1        0         NaN\n",
       "S47        11     2528    0.007171\n",
       "S48         7     2528    0.007171\n",
       "S49         7     1231    0.008190\n",
       "S5          2    14153    0.005256\n",
       "S50         7     1300    0.006192\n",
       "S51         5     2521    0.007191\n",
       "S6          5    14340    0.005258\n",
       "S7          5    14080    0.006002\n",
       "S8          4    28398    0.005631\n",
       "S9         13     9521    0.005173"
      ]
     },
     "execution_count": 10,
     "metadata": {},
     "output_type": "execute_result"
    }
   ],
   "source": [
    "station_error = []\n",
    "for s in station_features:\n",
    "    cols = ['Id','Response']\n",
    "    cols.extend(station_features[s])\n",
    "    df = pd.read_csv('train_date_response.csv', usecols=cols).dropna()\n",
    "    error_rate = df[df.Response == 1].size / float(df[df.Response == 0].size)   \n",
    "    station_error.append([df.shape[1]-2, df.shape[0], error_rate]) \n",
    "\n",
    "station_data = pd.DataFrame(station_error, \n",
    "                         columns=['Features', 'Samples', 'Error_Rate'], \n",
    "                         index=station_features).sort_index()\n",
    "station_data"
   ]
  },
  {
   "cell_type": "code",
   "execution_count": 11,
   "metadata": {
    "collapsed": false
   },
   "outputs": [
    {
     "data": {
      "image/png": "[encoded data removed]",
      "text/plain": [
       "<matplotlib.figure.Figure at 0x433f0e48>"
      ]
     },
     "metadata": {},
     "output_type": "display_data"
    }
   ],
   "source": [
    "plt.figure(figsize=(8, 20))\n",
    "sns.barplot(x='Error_Rate', y=station_data.index.values, data=station_data, color=\"red\")\n",
    "plt.title('Error Rate between Production Stations')\n",
    "\n",
    "plt.xlabel('Station Error Rate')\n",
    "plt.show()"
   ]
  },
  {
   "cell_type": "code",
   "execution_count": 12,
   "metadata": {
    "collapsed": false
   },
   "outputs": [
    {
     "data": {
      "text/plain": [
       "[<matplotlib.lines.Line2D at 0x456e5400>]"
      ]
     },
     "execution_count": 12,
     "metadata": {},
     "output_type": "execute_result"
    },
    {
     "data": {
      "image/png": "[encoded data removed]",
      "text/plain": [
       "<matplotlib.figure.Figure at 0x43df6ac8>"
      ]
     },
     "metadata": {},
     "output_type": "display_data"
    }
   ],
   "source": [
    "x = fail['Detection Frequency'].value_counts().index\n",
    "y = fail['Detection Frequency'].value_counts().values\n",
    "\n",
    "plt.plot(x,y,marker='o')"
   ]
  },
  {
   "cell_type": "code",
   "execution_count": 13,
   "metadata": {
    "collapsed": false
   },
   "outputs": [
    {
     "data": {
      "text/plain": [
       "[<matplotlib.lines.Line2D at 0x4251ce48>]"
      ]
     },
     "execution_count": 13,
     "metadata": {},
     "output_type": "execute_result"
    },
    {
     "data": {
      "image/png": "[encoded data removed]",
      "text/plain": [
       "<matplotlib.figure.Figure at 0x4a53bba8>"
      ]
     },
     "metadata": {},
     "output_type": "display_data"
    }
   ],
   "source": [
    "x = success['Detection Frequency'].value_counts().index\n",
    "y = success['Detection Frequency'].value_counts().values\n",
    "\n",
    "plt.plot(x,y,marker='o')"
   ]
  },
  {
   "cell_type": "code",
   "execution_count": 15,
   "metadata": {
    "collapsed": false
   },
   "outputs": [
    {
     "data": {
      "text/plain": [
       "<matplotlib.axes._subplots.AxesSubplot at 0x166f33c8>"
      ]
     },
     "execution_count": 15,
     "metadata": {},
     "output_type": "execute_result"
    },
    {
     "data": {
      "image/png": "[encoded data removed]",
      "text/plain": [
       "<matplotlib.figure.Figure at 0x166d5390>"
      ]
     },
     "metadata": {},
     "output_type": "display_data"
    }
   ],
   "source": [
    "def first_cp(x):\n",
    "    ''' Get the first non-NaN value per row'''\n",
    "    if x.first_valid_index() is None:\n",
    "        return None\n",
    "    else:\n",
    "        return x.first_valid_index()\n",
    "    \n",
    "fail.drop(['Id','Response'],1).apply(first_cp, axis=1).value_counts().plot(kind='bar')"
   ]
  },
  {
   "cell_type": "code",
   "execution_count": 16,
   "metadata": {
    "collapsed": false
   },
   "outputs": [
    {
     "data": {
      "text/plain": [
       "L0_S0_D1               0.568122\n",
       "L0_S12_D331            0.203993\n",
       "L1_S24_D1511           0.109092\n",
       "L1_S25_D1854           0.045448\n",
       "L1_S24_D1116           0.023449\n",
       "L1_S24_D677            0.021355\n",
       "L1_S25_D2471           0.008655\n",
       "L1_S25_D2230           0.005012\n",
       "L1_S25_D2206           0.003200\n",
       "L1_S25_D2780           0.003120\n",
       "L3_S29_D3316           0.001932\n",
       "L1_S25_D2754           0.001852\n",
       "L1_S25_D2497           0.001429\n",
       "L1_S25_D2180           0.000966\n",
       "L0_S1_D26              0.000704\n",
       "Detection Frequency    0.000503\n",
       "L2_S27_D3130           0.000503\n",
       "L3_S39_D3966           0.000242\n",
       "L2_S28_D3223           0.000181\n",
       "L3_S38_D3953           0.000101\n",
       "L2_S26_D3037           0.000060\n",
       "L0_S18_D437            0.000020\n",
       "L0_S16_D423            0.000020\n",
       "L0_S2_D34              0.000020\n",
       "L1_S25_D1867           0.000020\n",
       "dtype: float64"
      ]
     },
     "execution_count": 16,
     "metadata": {},
     "output_type": "execute_result"
    }
   ],
   "source": [
    "success.drop(['Id','Response'],1).apply(first_cp, axis=1).value_counts()/len(success)"
   ]
  },
  {
   "cell_type": "code",
   "execution_count": 17,
   "metadata": {
    "collapsed": false
   },
   "outputs": [
    {
     "data": {
      "text/plain": [
       "L0_S0_D1        0.501577\n",
       "L0_S12_D331     0.220820\n",
       "L1_S24_D1511    0.189274\n",
       "L1_S25_D1854    0.028391\n",
       "L1_S24_D1116    0.022082\n",
       "L1_S24_D677     0.015773\n",
       "L1_S25_D2754    0.003155\n",
       "L1_S25_D2780    0.003155\n",
       "L1_S25_D2180    0.003155\n",
       "L1_S25_D2206    0.003155\n",
       "L3_S29_D3316    0.003155\n",
       "L1_S25_D2497    0.003155\n",
       "L1_S25_D2230    0.003155\n",
       "dtype: float64"
      ]
     },
     "execution_count": 17,
     "metadata": {},
     "output_type": "execute_result"
    }
   ],
   "source": [
    "fail.drop(['Id','Response'],1).apply(first_cp, axis=1).value_counts()/len(fail)"
   ]
  },
  {
   "cell_type": "code",
   "execution_count": 18,
   "metadata": {
    "collapsed": false
   },
   "outputs": [
    {
     "data": {
      "text/plain": [
       "<matplotlib.axes._subplots.AxesSubplot at 0x3ff0e048>"
      ]
     },
     "execution_count": 18,
     "metadata": {},
     "output_type": "execute_result"
    },
    {
     "data": {
      "image/png": "[encoded data removed]",
      "text/plain": [
       "<matplotlib.figure.Figure at 0x166d5ac8>"
      ]
     },
     "metadata": {},
     "output_type": "display_data"
    }
   ],
   "source": [
    "success.drop(['Id','Response'],1).apply(first_cp, axis=1).value_counts().plot(kind='bar')"
   ]
  },
  {
   "cell_type": "code",
   "execution_count": 19,
   "metadata": {
    "collapsed": true
   },
   "outputs": [],
   "source": [
    "def first_valid(x):\n",
    "    ''' Get the first non-NaN value per row'''\n",
    "    if x.first_valid_index() is None:\n",
    "        return None\n",
    "    else:\n",
    "        return x[x.first_valid_index()]\n",
    "    \n",
    "def last_valid(x):\n",
    "    ''' Get the last non-NaN value per row'''\n",
    "    if x.last_valid_index() is None:\n",
    "        return None\n",
    "    else:\n",
    "        return x[x.last_valid_index()]\n",
    "\n",
    "start_time = data.apply(first_valid, axis=1)\n",
    "end_time = data.apply(last_valid, axis=1)"
   ]
  },
  {
   "cell_type": "code",
   "execution_count": 79,
   "metadata": {
    "collapsed": false
   },
   "outputs": [],
   "source": [
    "train_date = pd.read_csv('train_date_response.csv')\n",
    "del train_date[train_date.columns[0]]\n",
    "train_date['Detection Frequency'] = train_date.count(axis=1)-2\n",
    "\n",
    "#train_numeric = pd.read_csv('train_numeric.csv')\n",
    "\n",
    "df = train_date[['Id','Response','Detection Frequency']]\n",
    "data = train_date.drop(['Id','Response','Detection Frequency'],1)\n",
    "\n",
    "\n",
    "def first_valid(x):\n",
    "   ''' Get the first non-NaN value per row'''\n",
    "   if x.first_valid_index() is None:\n",
    "       return None\n",
    "   else:\n",
    "       return x[x.first_valid_index()]\n",
    "   \n",
    "def last_valid(x):\n",
    "   ''' Get the last non-NaN value per row'''\n",
    "   if x.last_valid_index() is None:\n",
    "       return None\n",
    "   else:\n",
    "       return x[x.last_valid_index()]\n",
    "\n",
    "start_time = data.apply(first_valid, axis=1)\n",
    "end_time = data.apply(last_valid, axis=1)\n",
    "\n",
    "timestamp = pd.concat([df, start_time, end_time], axis=1, keys=['red','blue','yellow'])\n",
    "timestamp.columns = ['Id','Response','Detection Frequency','Start_time','End_time']\n",
    "timestamp['Duration'] = timestamp['End_time'] - timestamp['Start_time']\n",
    "\n"
   ]
  },
  {
   "cell_type": "code",
   "execution_count": 80,
   "metadata": {
    "collapsed": false
   },
   "outputs": [
    {
     "data": {
      "text/html": [
       "<div>\n",
       "<table border=\"1\" class=\"dataframe\">\n",
       "  <thead>\n",
       "    <tr style=\"text-align: right;\">\n",
       "      <th></th>\n",
       "      <th>L0_S0_F0</th>\n",
       "      <th>L0_S0_F2</th>\n",
       "      <th>L0_S0_F4</th>\n",
       "      <th>L0_S0_F6</th>\n",
       "      <th>L0_S0_F8</th>\n",
       "      <th>L0_S0_F10</th>\n",
       "      <th>L0_S0_F12</th>\n",
       "      <th>L0_S0_F14</th>\n",
       "      <th>L0_S0_F16</th>\n",
       "      <th>L0_S0_F18</th>\n",
       "      <th>...</th>\n",
       "      <th>L3_S50_F4249</th>\n",
       "      <th>L3_S50_F4251</th>\n",
       "      <th>L3_S50_F4253</th>\n",
       "      <th>L3_S51_F4256</th>\n",
       "      <th>L3_S51_F4258</th>\n",
       "      <th>L3_S51_F4260</th>\n",
       "      <th>L3_S51_F4262</th>\n",
       "      <th>Response</th>\n",
       "      <th>null_cols</th>\n",
       "      <th>Duration</th>\n",
       "    </tr>\n",
       "  </thead>\n",
       "  <tbody>\n",
       "    <tr>\n",
       "      <th>72</th>\n",
       "      <td>0.000</td>\n",
       "      <td>0.000</td>\n",
       "      <td>0.000</td>\n",
       "      <td>0.000</td>\n",
       "      <td>0.000</td>\n",
       "      <td>0.000</td>\n",
       "      <td>0.000</td>\n",
       "      <td>0.000</td>\n",
       "      <td>0.0</td>\n",
       "      <td>0.000</td>\n",
       "      <td>...</td>\n",
       "      <td>0.0</td>\n",
       "      <td>0.0</td>\n",
       "      <td>0.0</td>\n",
       "      <td>0.0</td>\n",
       "      <td>0.0</td>\n",
       "      <td>0.0</td>\n",
       "      <td>0.0</td>\n",
       "      <td>0</td>\n",
       "      <td>193</td>\n",
       "      <td>7.79</td>\n",
       "    </tr>\n",
       "    <tr>\n",
       "      <th>79</th>\n",
       "      <td>0.000</td>\n",
       "      <td>0.000</td>\n",
       "      <td>0.000</td>\n",
       "      <td>0.000</td>\n",
       "      <td>0.000</td>\n",
       "      <td>0.000</td>\n",
       "      <td>0.000</td>\n",
       "      <td>0.000</td>\n",
       "      <td>0.0</td>\n",
       "      <td>0.000</td>\n",
       "      <td>...</td>\n",
       "      <td>0.0</td>\n",
       "      <td>0.0</td>\n",
       "      <td>0.0</td>\n",
       "      <td>0.0</td>\n",
       "      <td>0.0</td>\n",
       "      <td>0.0</td>\n",
       "      <td>0.0</td>\n",
       "      <td>0</td>\n",
       "      <td>161</td>\n",
       "      <td>2.54</td>\n",
       "    </tr>\n",
       "    <tr>\n",
       "      <th>159</th>\n",
       "      <td>-0.049</td>\n",
       "      <td>0.011</td>\n",
       "      <td>-0.033</td>\n",
       "      <td>0.003</td>\n",
       "      <td>0.031</td>\n",
       "      <td>0.116</td>\n",
       "      <td>0.015</td>\n",
       "      <td>-0.032</td>\n",
       "      <td>0.0</td>\n",
       "      <td>-0.056</td>\n",
       "      <td>...</td>\n",
       "      <td>0.0</td>\n",
       "      <td>0.0</td>\n",
       "      <td>0.0</td>\n",
       "      <td>0.0</td>\n",
       "      <td>0.0</td>\n",
       "      <td>0.0</td>\n",
       "      <td>0.0</td>\n",
       "      <td>0</td>\n",
       "      <td>205</td>\n",
       "      <td>4.29</td>\n",
       "    </tr>\n",
       "    <tr>\n",
       "      <th>165</th>\n",
       "      <td>0.000</td>\n",
       "      <td>0.000</td>\n",
       "      <td>0.000</td>\n",
       "      <td>0.000</td>\n",
       "      <td>0.000</td>\n",
       "      <td>0.000</td>\n",
       "      <td>0.000</td>\n",
       "      <td>0.000</td>\n",
       "      <td>0.0</td>\n",
       "      <td>0.000</td>\n",
       "      <td>...</td>\n",
       "      <td>0.0</td>\n",
       "      <td>0.0</td>\n",
       "      <td>0.0</td>\n",
       "      <td>0.0</td>\n",
       "      <td>0.0</td>\n",
       "      <td>0.0</td>\n",
       "      <td>0.0</td>\n",
       "      <td>0</td>\n",
       "      <td>193</td>\n",
       "      <td>1.80</td>\n",
       "    </tr>\n",
       "    <tr>\n",
       "      <th>166</th>\n",
       "      <td>0.000</td>\n",
       "      <td>0.000</td>\n",
       "      <td>0.000</td>\n",
       "      <td>0.000</td>\n",
       "      <td>0.000</td>\n",
       "      <td>0.000</td>\n",
       "      <td>0.000</td>\n",
       "      <td>0.000</td>\n",
       "      <td>0.0</td>\n",
       "      <td>0.000</td>\n",
       "      <td>...</td>\n",
       "      <td>0.0</td>\n",
       "      <td>0.0</td>\n",
       "      <td>0.0</td>\n",
       "      <td>0.0</td>\n",
       "      <td>0.0</td>\n",
       "      <td>0.0</td>\n",
       "      <td>0.0</td>\n",
       "      <td>0</td>\n",
       "      <td>166</td>\n",
       "      <td>7.32</td>\n",
       "    </tr>\n",
       "  </tbody>\n",
       "</table>\n",
       "<p>5 rows × 971 columns</p>\n",
       "</div>"
      ],
      "text/plain": [
       "     L0_S0_F0  L0_S0_F2  L0_S0_F4  L0_S0_F6  L0_S0_F8  L0_S0_F10  L0_S0_F12  \\\n",
       "72      0.000     0.000     0.000     0.000     0.000      0.000      0.000   \n",
       "79      0.000     0.000     0.000     0.000     0.000      0.000      0.000   \n",
       "159    -0.049     0.011    -0.033     0.003     0.031      0.116      0.015   \n",
       "165     0.000     0.000     0.000     0.000     0.000      0.000      0.000   \n",
       "166     0.000     0.000     0.000     0.000     0.000      0.000      0.000   \n",
       "\n",
       "     L0_S0_F14  L0_S0_F16  L0_S0_F18    ...     L3_S50_F4249  L3_S50_F4251  \\\n",
       "72       0.000        0.0      0.000    ...              0.0           0.0   \n",
       "79       0.000        0.0      0.000    ...              0.0           0.0   \n",
       "159     -0.032        0.0     -0.056    ...              0.0           0.0   \n",
       "165      0.000        0.0      0.000    ...              0.0           0.0   \n",
       "166      0.000        0.0      0.000    ...              0.0           0.0   \n",
       "\n",
       "     L3_S50_F4253  L3_S51_F4256  L3_S51_F4258  L3_S51_F4260  L3_S51_F4262  \\\n",
       "72            0.0           0.0           0.0           0.0           0.0   \n",
       "79            0.0           0.0           0.0           0.0           0.0   \n",
       "159           0.0           0.0           0.0           0.0           0.0   \n",
       "165           0.0           0.0           0.0           0.0           0.0   \n",
       "166           0.0           0.0           0.0           0.0           0.0   \n",
       "\n",
       "     Response  null_cols  Duration  \n",
       "72          0        193      7.79  \n",
       "79          0        161      2.54  \n",
       "159         0        205      4.29  \n",
       "165         0        193      1.80  \n",
       "166         0        166      7.32  \n",
       "\n",
       "[5 rows x 971 columns]"
      ]
     },
     "execution_count": 80,
     "metadata": {},
     "output_type": "execute_result"
    }
   ],
   "source": []
  },
  {
   "cell_type": "code",
   "execution_count": 108,
   "metadata": {
    "collapsed": false
   },
   "outputs": [
    {
     "data": {
      "text/html": [
       "<div>\n",
       "<table border=\"1\" class=\"dataframe\">\n",
       "  <thead>\n",
       "    <tr style=\"text-align: right;\">\n",
       "      <th></th>\n",
       "      <th>L0_S0_F0</th>\n",
       "      <th>L0_S0_F2</th>\n",
       "      <th>L0_S0_F4</th>\n",
       "      <th>L0_S0_F6</th>\n",
       "      <th>L0_S0_F8</th>\n",
       "      <th>L0_S0_F10</th>\n",
       "      <th>L0_S0_F12</th>\n",
       "      <th>L0_S0_F14</th>\n",
       "      <th>L0_S0_F16</th>\n",
       "      <th>L0_S0_F18</th>\n",
       "      <th>...</th>\n",
       "      <th>L3_S50_F4247</th>\n",
       "      <th>L3_S50_F4249</th>\n",
       "      <th>L3_S50_F4251</th>\n",
       "      <th>L3_S50_F4253</th>\n",
       "      <th>L3_S51_F4256</th>\n",
       "      <th>L3_S51_F4258</th>\n",
       "      <th>L3_S51_F4260</th>\n",
       "      <th>L3_S51_F4262</th>\n",
       "      <th>Response</th>\n",
       "      <th>null_cols</th>\n",
       "    </tr>\n",
       "    <tr>\n",
       "      <th>Id</th>\n",
       "      <th></th>\n",
       "      <th></th>\n",
       "      <th></th>\n",
       "      <th></th>\n",
       "      <th></th>\n",
       "      <th></th>\n",
       "      <th></th>\n",
       "      <th></th>\n",
       "      <th></th>\n",
       "      <th></th>\n",
       "      <th></th>\n",
       "      <th></th>\n",
       "      <th></th>\n",
       "      <th></th>\n",
       "      <th></th>\n",
       "      <th></th>\n",
       "      <th></th>\n",
       "      <th></th>\n",
       "      <th></th>\n",
       "      <th></th>\n",
       "      <th></th>\n",
       "    </tr>\n",
       "  </thead>\n",
       "  <tbody>\n",
       "    <tr>\n",
       "      <th>206567</th>\n",
       "      <td>0.0</td>\n",
       "      <td>0.0</td>\n",
       "      <td>0.0</td>\n",
       "      <td>0.0</td>\n",
       "      <td>0.0</td>\n",
       "      <td>0.0</td>\n",
       "      <td>0.0</td>\n",
       "      <td>0.0</td>\n",
       "      <td>0.0</td>\n",
       "      <td>0.0</td>\n",
       "      <td>...</td>\n",
       "      <td>0.0</td>\n",
       "      <td>0.0</td>\n",
       "      <td>0.0</td>\n",
       "      <td>0.0</td>\n",
       "      <td>0.0</td>\n",
       "      <td>0.0</td>\n",
       "      <td>0.0</td>\n",
       "      <td>0.0</td>\n",
       "      <td>0</td>\n",
       "      <td>1</td>\n",
       "    </tr>\n",
       "    <tr>\n",
       "      <th>499248</th>\n",
       "      <td>0.0</td>\n",
       "      <td>0.0</td>\n",
       "      <td>0.0</td>\n",
       "      <td>0.0</td>\n",
       "      <td>0.0</td>\n",
       "      <td>0.0</td>\n",
       "      <td>0.0</td>\n",
       "      <td>0.0</td>\n",
       "      <td>0.0</td>\n",
       "      <td>0.0</td>\n",
       "      <td>...</td>\n",
       "      <td>0.0</td>\n",
       "      <td>0.0</td>\n",
       "      <td>0.0</td>\n",
       "      <td>0.0</td>\n",
       "      <td>0.0</td>\n",
       "      <td>0.0</td>\n",
       "      <td>0.0</td>\n",
       "      <td>0.0</td>\n",
       "      <td>0</td>\n",
       "      <td>1</td>\n",
       "    </tr>\n",
       "    <tr>\n",
       "      <th>2047971</th>\n",
       "      <td>0.0</td>\n",
       "      <td>0.0</td>\n",
       "      <td>0.0</td>\n",
       "      <td>0.0</td>\n",
       "      <td>0.0</td>\n",
       "      <td>0.0</td>\n",
       "      <td>0.0</td>\n",
       "      <td>0.0</td>\n",
       "      <td>0.0</td>\n",
       "      <td>0.0</td>\n",
       "      <td>...</td>\n",
       "      <td>0.0</td>\n",
       "      <td>0.0</td>\n",
       "      <td>0.0</td>\n",
       "      <td>0.0</td>\n",
       "      <td>0.0</td>\n",
       "      <td>0.0</td>\n",
       "      <td>0.0</td>\n",
       "      <td>0.0</td>\n",
       "      <td>0</td>\n",
       "      <td>1</td>\n",
       "    </tr>\n",
       "    <tr>\n",
       "      <th>1431582</th>\n",
       "      <td>0.0</td>\n",
       "      <td>0.0</td>\n",
       "      <td>0.0</td>\n",
       "      <td>0.0</td>\n",
       "      <td>0.0</td>\n",
       "      <td>0.0</td>\n",
       "      <td>0.0</td>\n",
       "      <td>0.0</td>\n",
       "      <td>0.0</td>\n",
       "      <td>0.0</td>\n",
       "      <td>...</td>\n",
       "      <td>0.0</td>\n",
       "      <td>0.0</td>\n",
       "      <td>0.0</td>\n",
       "      <td>0.0</td>\n",
       "      <td>0.0</td>\n",
       "      <td>0.0</td>\n",
       "      <td>0.0</td>\n",
       "      <td>0.0</td>\n",
       "      <td>0</td>\n",
       "      <td>1</td>\n",
       "    </tr>\n",
       "    <tr>\n",
       "      <th>1242241</th>\n",
       "      <td>0.0</td>\n",
       "      <td>0.0</td>\n",
       "      <td>0.0</td>\n",
       "      <td>0.0</td>\n",
       "      <td>0.0</td>\n",
       "      <td>0.0</td>\n",
       "      <td>0.0</td>\n",
       "      <td>0.0</td>\n",
       "      <td>0.0</td>\n",
       "      <td>0.0</td>\n",
       "      <td>...</td>\n",
       "      <td>0.0</td>\n",
       "      <td>0.0</td>\n",
       "      <td>0.0</td>\n",
       "      <td>0.0</td>\n",
       "      <td>0.0</td>\n",
       "      <td>0.0</td>\n",
       "      <td>0.0</td>\n",
       "      <td>0.0</td>\n",
       "      <td>0</td>\n",
       "      <td>1</td>\n",
       "    </tr>\n",
       "  </tbody>\n",
       "</table>\n",
       "<p>5 rows × 970 columns</p>\n",
       "</div>"
      ],
      "text/plain": [
       "         L0_S0_F0  L0_S0_F2  L0_S0_F4  L0_S0_F6  L0_S0_F8  L0_S0_F10  \\\n",
       "Id                                                                     \n",
       "206567        0.0       0.0       0.0       0.0       0.0        0.0   \n",
       "499248        0.0       0.0       0.0       0.0       0.0        0.0   \n",
       "2047971       0.0       0.0       0.0       0.0       0.0        0.0   \n",
       "1431582       0.0       0.0       0.0       0.0       0.0        0.0   \n",
       "1242241       0.0       0.0       0.0       0.0       0.0        0.0   \n",
       "\n",
       "         L0_S0_F12  L0_S0_F14  L0_S0_F16  L0_S0_F18    ...      L3_S50_F4247  \\\n",
       "Id                                                     ...                     \n",
       "206567         0.0        0.0        0.0        0.0    ...               0.0   \n",
       "499248         0.0        0.0        0.0        0.0    ...               0.0   \n",
       "2047971        0.0        0.0        0.0        0.0    ...               0.0   \n",
       "1431582        0.0        0.0        0.0        0.0    ...               0.0   \n",
       "1242241        0.0        0.0        0.0        0.0    ...               0.0   \n",
       "\n",
       "         L3_S50_F4249  L3_S50_F4251  L3_S50_F4253  L3_S51_F4256  L3_S51_F4258  \\\n",
       "Id                                                                              \n",
       "206567            0.0           0.0           0.0           0.0           0.0   \n",
       "499248            0.0           0.0           0.0           0.0           0.0   \n",
       "2047971           0.0           0.0           0.0           0.0           0.0   \n",
       "1431582           0.0           0.0           0.0           0.0           0.0   \n",
       "1242241           0.0           0.0           0.0           0.0           0.0   \n",
       "\n",
       "         L3_S51_F4260  L3_S51_F4262  Response  null_cols  \n",
       "Id                                                        \n",
       "206567            0.0           0.0         0          1  \n",
       "499248            0.0           0.0         0          1  \n",
       "2047971           0.0           0.0         0          1  \n",
       "1431582           0.0           0.0         0          1  \n",
       "1242241           0.0           0.0         0          1  \n",
       "\n",
       "[5 rows x 970 columns]"
      ]
     },
     "execution_count": 108,
     "metadata": {},
     "output_type": "execute_result"
    }
   ],
   "source": [
    "df_numeric.head()"
   ]
  },
  {
   "cell_type": "code",
   "execution_count": 109,
   "metadata": {
    "collapsed": false
   },
   "outputs": [],
   "source": [
    "df_merged=pd.merge(df_numeric,timestamp[['Id','Duration']],how='inner',left_index=True,right_on='Id')"
   ]
  },
  {
   "cell_type": "code",
   "execution_count": 110,
   "metadata": {
    "collapsed": false
   },
   "outputs": [
    {
     "data": {
      "text/plain": [
       "317L"
      ]
     },
     "execution_count": 110,
     "metadata": {},
     "output_type": "execute_result"
    }
   ],
   "source": [
    "np.sum(df_merged['Response'])"
   ]
  },
  {
   "cell_type": "code",
   "execution_count": 127,
   "metadata": {
    "collapsed": false
   },
   "outputs": [
    {
     "name": "stdout",
     "output_type": "stream",
     "text": [
      "(50000, 971)\n",
      "(50000L,)\n"
     ]
    }
   ],
   "source": [
    "from imblearn.combine import SMOTETomek\n",
    "df_merged=df_merged.fillna(0)\n",
    "x = df_merged.ix[:,df_merged.columns != 'Response']\n",
    "y = df_merged.ix[:,df_merged.columns == 'Response']\n",
    "y = y.values.ravel()\n",
    "print x.shape\n",
    "print y.shape"
   ]
  },
  {
   "cell_type": "code",
   "execution_count": 128,
   "metadata": {
    "collapsed": false
   },
   "outputs": [
    {
     "name": "stdout",
     "output_type": "stream",
     "text": [
      "(90775L, 971L)\n",
      "(90775L,)\n"
     ]
    }
   ],
   "source": [
    "# Apply SMOTE + Tomek links\n",
    "sm = SMOTETomek()\n",
    "X_resampled, y_resampled = sm.fit_sample(x, y)\n",
    "\n",
    "print X_resampled.shape\n",
    "print y_resampled.shape\n",
    "#print X_resampled.head()"
   ]
  },
  {
   "cell_type": "code",
   "execution_count": 129,
   "metadata": {
    "collapsed": false
   },
   "outputs": [
    {
     "name": "stdout",
     "output_type": "stream",
     "text": [
      "Fitting Decision Tree\n",
      "Fitting Bagging\n",
      "Fitting Random Forest\n",
      "Fitting Gradient Boosting\n",
      "{'Bagging': array([[14940,    18],\n",
      "       [   87, 12188]]), 'Random Forest': array([[14958,     0],\n",
      "       [   88, 12187]]), 'Gradient Boosting': array([[14944,    14],\n",
      "       [   76, 12199]]), 'Decision Tree': array([[14823,   135],\n",
      "       [   86, 12189]])}\n"
     ]
    },
    {
     "data": {
      "text/html": [
       "<div>\n",
       "<table border=\"1\" class=\"dataframe\">\n",
       "  <thead>\n",
       "    <tr style=\"text-align: right;\">\n",
       "      <th></th>\n",
       "      <th>MCC</th>\n",
       "      <th>TPR</th>\n",
       "      <th>Test Accuracy</th>\n",
       "      <th>Training Accuracy</th>\n",
       "    </tr>\n",
       "  </thead>\n",
       "  <tbody>\n",
       "    <tr>\n",
       "      <th>Bagging</th>\n",
       "      <td>0.992222</td>\n",
       "      <td>0.992912</td>\n",
       "      <td>0.996144</td>\n",
       "      <td>0.999182</td>\n",
       "    </tr>\n",
       "    <tr>\n",
       "      <th>Decision Tree</th>\n",
       "      <td>0.983623</td>\n",
       "      <td>0.992994</td>\n",
       "      <td>0.991885</td>\n",
       "      <td>1.000000</td>\n",
       "    </tr>\n",
       "    <tr>\n",
       "      <th>Gradient Boosting</th>\n",
       "      <td>0.993333</td>\n",
       "      <td>0.993809</td>\n",
       "      <td>0.996695</td>\n",
       "      <td>0.997655</td>\n",
       "    </tr>\n",
       "    <tr>\n",
       "      <th>Random Forest</th>\n",
       "      <td>0.993491</td>\n",
       "      <td>0.992831</td>\n",
       "      <td>0.996769</td>\n",
       "      <td>0.999622</td>\n",
       "    </tr>\n",
       "  </tbody>\n",
       "</table>\n",
       "</div>"
      ],
      "text/plain": [
       "                        MCC       TPR  Test Accuracy  Training Accuracy\n",
       "Bagging            0.992222  0.992912       0.996144           0.999182\n",
       "Decision Tree      0.983623  0.992994       0.991885           1.000000\n",
       "Gradient Boosting  0.993333  0.993809       0.996695           0.997655\n",
       "Random Forest      0.993491  0.992831       0.996769           0.999622"
      ]
     },
     "execution_count": 129,
     "metadata": {},
     "output_type": "execute_result"
    }
   ],
   "source": [
    "from sklearn.model_selection import (train_test_split,KFold)\n",
    "X_train, X_test, y_train, y_test = train_test_split(X_resampled, y_resampled,test_size = 0.3, random_state=42)\n",
    "\n",
    "# All the models we want to test out, in one list.\n",
    "model_list5 = [('Decision Tree', tree.DecisionTreeClassifier(criterion='entropy')),\n",
    "              ('Bagging', BaggingClassifier(tree.DecisionTreeClassifier(criterion='entropy'), random_state=1)),\n",
    "              ('Random Forest', RandomForestClassifier(n_estimators=10, random_state=1)),\n",
    "              ('Gradient Boosting', GradientBoostingClassifier(n_estimators=200, max_depth=4, random_state=1))]\n",
    "\n",
    "for (name, model) in model_list5:\n",
    "    print 'Fitting', name\n",
    "    model.fit(X_train, y_train)\n",
    "\n",
    "accuracy_train = {}\n",
    "accuracy_test = {}\n",
    "cm = {}\n",
    "mcc={}\n",
    "TPR={}\n",
    "for (name, model) in model_list5:\n",
    "    prediction_train = model.predict(X_train)\n",
    "    accuracy_train[name] = metrics.accuracy_score(y_train, prediction_train)\n",
    "    prediction_test = model.predict(X_test)\n",
    "    accuracy_test[name] = metrics.accuracy_score(y_test, prediction_test)\n",
    "    cm[name] = confusion_matrix(y_test,prediction_test)\n",
    "    TP = cm[name][1][1]\n",
    "    FP = cm[name][0][1]\n",
    "    TN = cm[name][0][0]\n",
    "    FN = cm[name][1][0]\n",
    "\n",
    "    #print (TP+FP),(TP+FN),(TN+FP),(TN+FN)\n",
    "    a = (TP+FP)*(TP+FN)\n",
    "    b = (TN+FP)*(TN+FN)\n",
    "    mcc[name]= (TP*TN-FP*FN)*1.0/np.sqrt(float(a)*float(b))\n",
    "    TPR[name] = TP*1.0/(TP+FN)\n",
    "print cm\n",
    "results = pd.DataFrame({'Training Accuracy':accuracy_train, 'Test Accuracy':accuracy_test,'MCC':mcc,'TPR':TPR})\n",
    "results"
   ]
  },
  {
   "cell_type": "code",
   "execution_count": null,
   "metadata": {
    "collapsed": true
   },
   "outputs": [],
   "source": []
  },
  {
   "cell_type": "code",
   "execution_count": null,
   "metadata": {
    "collapsed": true
   },
   "outputs": [],
   "source": []
  },
  {
   "cell_type": "code",
   "execution_count": null,
   "metadata": {
    "collapsed": true
   },
   "outputs": [],
   "source": []
  }
 ],
 "metadata": {
  "anaconda-cloud": {},
  "kernelspec": {
   "display_name": "Python [Root]",
   "language": "python",
   "name": "Python [Root]"
  },
  "language_info": {
   "codemirror_mode": {
    "name": "ipython",
    "version": 2
   },
   "file_extension": ".py",
   "mimetype": "text/x-python",
   "name": "python",
   "nbconvert_exporter": "python",
   "pygments_lexer": "ipython2",
   "version": "2.7.12"
  }
 },
 "nbformat": 4,
 "nbformat_minor": 0
}
